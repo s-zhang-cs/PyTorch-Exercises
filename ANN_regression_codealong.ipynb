{
  "nbformat": 4,
  "nbformat_minor": 0,
  "metadata": {
    "colab": {
      "name": "ANN_regression_codealong.ipynb",
      "provenance": [],
      "machine_shape": "hm",
      "authorship_tag": "ABX9TyNtpT9NNd9+yiKSVhrx6VOx",
      "include_colab_link": true
    },
    "kernelspec": {
      "name": "python3",
      "display_name": "Python 3"
    },
    "language_info": {
      "name": "python"
    },
    "accelerator": "GPU"
  },
  "cells": [
    {
      "cell_type": "markdown",
      "metadata": {
        "id": "view-in-github",
        "colab_type": "text"
      },
      "source": [
        "<a href=\"https://colab.research.google.com/github/s-zhang-cs/Google-Colabs/blob/main/ANN_regression_codealong.ipynb\" target=\"_parent\"><img src=\"https://colab.research.google.com/assets/colab-badge.svg\" alt=\"Open In Colab\"/></a>"
      ]
    },
    {
      "cell_type": "markdown",
      "source": [
        "From Pytorch for deep learning with Python Bootcamp by Jose Portilla\n"
      ],
      "metadata": {
        "id": "wRQs7rZAj-LS"
      }
    },
    {
      "cell_type": "code",
      "execution_count": 1,
      "metadata": {
        "id": "KxSRDFiZj6Hc"
      },
      "outputs": [],
      "source": [
        "import torch\n",
        "import torch.nn as nn\n",
        "\n",
        "import numpy as np\n",
        "import pandas as pd\n",
        "import matplotlib.pyplot as plt\n",
        "%matplotlib inline"
      ]
    },
    {
      "cell_type": "code",
      "source": [
        "df = pd.read_csv('Data/NYCTaxiFares.csv')"
      ],
      "metadata": {
        "id": "eDgaev24mMV2"
      },
      "execution_count": 7,
      "outputs": []
    },
    {
      "cell_type": "code",
      "source": [
        "df.head()"
      ],
      "metadata": {
        "colab": {
          "base_uri": "https://localhost:8080/",
          "height": 206
        },
        "id": "o7zaenHgxgst",
        "outputId": "d0713344-965c-4f27-b1b1-4798dcea72a5"
      },
      "execution_count": 8,
      "outputs": [
        {
          "output_type": "execute_result",
          "data": {
            "text/plain": [
              "           pickup_datetime  fare_amount  fare_class  pickup_longitude  \\\n",
              "0  2010-04-19 08:17:56 UTC          6.5           0        -73.992365   \n",
              "1  2010-04-17 15:43:53 UTC          6.9           0        -73.990078   \n",
              "2  2010-04-17 11:23:26 UTC         10.1           1        -73.994149   \n",
              "3  2010-04-11 21:25:03 UTC          8.9           0        -73.990485   \n",
              "4  2010-04-17 02:19:01 UTC         19.7           1        -73.990976   \n",
              "\n",
              "   pickup_latitude  dropoff_longitude  dropoff_latitude  passenger_count  \n",
              "0        40.730521         -73.975499         40.744746                1  \n",
              "1        40.740558         -73.974232         40.744114                1  \n",
              "2        40.751118         -73.960064         40.766235                2  \n",
              "3        40.756422         -73.971205         40.748192                1  \n",
              "4        40.734202         -73.905956         40.743115                1  "
            ],
            "text/html": [
              "\n",
              "  <div id=\"df-a1d2ee83-f169-47f9-9e4d-d5d1098f6014\">\n",
              "    <div class=\"colab-df-container\">\n",
              "      <div>\n",
              "<style scoped>\n",
              "    .dataframe tbody tr th:only-of-type {\n",
              "        vertical-align: middle;\n",
              "    }\n",
              "\n",
              "    .dataframe tbody tr th {\n",
              "        vertical-align: top;\n",
              "    }\n",
              "\n",
              "    .dataframe thead th {\n",
              "        text-align: right;\n",
              "    }\n",
              "</style>\n",
              "<table border=\"1\" class=\"dataframe\">\n",
              "  <thead>\n",
              "    <tr style=\"text-align: right;\">\n",
              "      <th></th>\n",
              "      <th>pickup_datetime</th>\n",
              "      <th>fare_amount</th>\n",
              "      <th>fare_class</th>\n",
              "      <th>pickup_longitude</th>\n",
              "      <th>pickup_latitude</th>\n",
              "      <th>dropoff_longitude</th>\n",
              "      <th>dropoff_latitude</th>\n",
              "      <th>passenger_count</th>\n",
              "    </tr>\n",
              "  </thead>\n",
              "  <tbody>\n",
              "    <tr>\n",
              "      <th>0</th>\n",
              "      <td>2010-04-19 08:17:56 UTC</td>\n",
              "      <td>6.5</td>\n",
              "      <td>0</td>\n",
              "      <td>-73.992365</td>\n",
              "      <td>40.730521</td>\n",
              "      <td>-73.975499</td>\n",
              "      <td>40.744746</td>\n",
              "      <td>1</td>\n",
              "    </tr>\n",
              "    <tr>\n",
              "      <th>1</th>\n",
              "      <td>2010-04-17 15:43:53 UTC</td>\n",
              "      <td>6.9</td>\n",
              "      <td>0</td>\n",
              "      <td>-73.990078</td>\n",
              "      <td>40.740558</td>\n",
              "      <td>-73.974232</td>\n",
              "      <td>40.744114</td>\n",
              "      <td>1</td>\n",
              "    </tr>\n",
              "    <tr>\n",
              "      <th>2</th>\n",
              "      <td>2010-04-17 11:23:26 UTC</td>\n",
              "      <td>10.1</td>\n",
              "      <td>1</td>\n",
              "      <td>-73.994149</td>\n",
              "      <td>40.751118</td>\n",
              "      <td>-73.960064</td>\n",
              "      <td>40.766235</td>\n",
              "      <td>2</td>\n",
              "    </tr>\n",
              "    <tr>\n",
              "      <th>3</th>\n",
              "      <td>2010-04-11 21:25:03 UTC</td>\n",
              "      <td>8.9</td>\n",
              "      <td>0</td>\n",
              "      <td>-73.990485</td>\n",
              "      <td>40.756422</td>\n",
              "      <td>-73.971205</td>\n",
              "      <td>40.748192</td>\n",
              "      <td>1</td>\n",
              "    </tr>\n",
              "    <tr>\n",
              "      <th>4</th>\n",
              "      <td>2010-04-17 02:19:01 UTC</td>\n",
              "      <td>19.7</td>\n",
              "      <td>1</td>\n",
              "      <td>-73.990976</td>\n",
              "      <td>40.734202</td>\n",
              "      <td>-73.905956</td>\n",
              "      <td>40.743115</td>\n",
              "      <td>1</td>\n",
              "    </tr>\n",
              "  </tbody>\n",
              "</table>\n",
              "</div>\n",
              "      <button class=\"colab-df-convert\" onclick=\"convertToInteractive('df-a1d2ee83-f169-47f9-9e4d-d5d1098f6014')\"\n",
              "              title=\"Convert this dataframe to an interactive table.\"\n",
              "              style=\"display:none;\">\n",
              "        \n",
              "  <svg xmlns=\"http://www.w3.org/2000/svg\" height=\"24px\"viewBox=\"0 0 24 24\"\n",
              "       width=\"24px\">\n",
              "    <path d=\"M0 0h24v24H0V0z\" fill=\"none\"/>\n",
              "    <path d=\"M18.56 5.44l.94 2.06.94-2.06 2.06-.94-2.06-.94-.94-2.06-.94 2.06-2.06.94zm-11 1L8.5 8.5l.94-2.06 2.06-.94-2.06-.94L8.5 2.5l-.94 2.06-2.06.94zm10 10l.94 2.06.94-2.06 2.06-.94-2.06-.94-.94-2.06-.94 2.06-2.06.94z\"/><path d=\"M17.41 7.96l-1.37-1.37c-.4-.4-.92-.59-1.43-.59-.52 0-1.04.2-1.43.59L10.3 9.45l-7.72 7.72c-.78.78-.78 2.05 0 2.83L4 21.41c.39.39.9.59 1.41.59.51 0 1.02-.2 1.41-.59l7.78-7.78 2.81-2.81c.8-.78.8-2.07 0-2.86zM5.41 20L4 18.59l7.72-7.72 1.47 1.35L5.41 20z\"/>\n",
              "  </svg>\n",
              "      </button>\n",
              "      \n",
              "  <style>\n",
              "    .colab-df-container {\n",
              "      display:flex;\n",
              "      flex-wrap:wrap;\n",
              "      gap: 12px;\n",
              "    }\n",
              "\n",
              "    .colab-df-convert {\n",
              "      background-color: #E8F0FE;\n",
              "      border: none;\n",
              "      border-radius: 50%;\n",
              "      cursor: pointer;\n",
              "      display: none;\n",
              "      fill: #1967D2;\n",
              "      height: 32px;\n",
              "      padding: 0 0 0 0;\n",
              "      width: 32px;\n",
              "    }\n",
              "\n",
              "    .colab-df-convert:hover {\n",
              "      background-color: #E2EBFA;\n",
              "      box-shadow: 0px 1px 2px rgba(60, 64, 67, 0.3), 0px 1px 3px 1px rgba(60, 64, 67, 0.15);\n",
              "      fill: #174EA6;\n",
              "    }\n",
              "\n",
              "    [theme=dark] .colab-df-convert {\n",
              "      background-color: #3B4455;\n",
              "      fill: #D2E3FC;\n",
              "    }\n",
              "\n",
              "    [theme=dark] .colab-df-convert:hover {\n",
              "      background-color: #434B5C;\n",
              "      box-shadow: 0px 1px 3px 1px rgba(0, 0, 0, 0.15);\n",
              "      filter: drop-shadow(0px 1px 2px rgba(0, 0, 0, 0.3));\n",
              "      fill: #FFFFFF;\n",
              "    }\n",
              "  </style>\n",
              "\n",
              "      <script>\n",
              "        const buttonEl =\n",
              "          document.querySelector('#df-a1d2ee83-f169-47f9-9e4d-d5d1098f6014 button.colab-df-convert');\n",
              "        buttonEl.style.display =\n",
              "          google.colab.kernel.accessAllowed ? 'block' : 'none';\n",
              "\n",
              "        async function convertToInteractive(key) {\n",
              "          const element = document.querySelector('#df-a1d2ee83-f169-47f9-9e4d-d5d1098f6014');\n",
              "          const dataTable =\n",
              "            await google.colab.kernel.invokeFunction('convertToInteractive',\n",
              "                                                     [key], {});\n",
              "          if (!dataTable) return;\n",
              "\n",
              "          const docLinkHtml = 'Like what you see? Visit the ' +\n",
              "            '<a target=\"_blank\" href=https://colab.research.google.com/notebooks/data_table.ipynb>data table notebook</a>'\n",
              "            + ' to learn more about interactive tables.';\n",
              "          element.innerHTML = '';\n",
              "          dataTable['output_type'] = 'display_data';\n",
              "          await google.colab.output.renderOutput(dataTable, element);\n",
              "          const docLink = document.createElement('div');\n",
              "          docLink.innerHTML = docLinkHtml;\n",
              "          element.appendChild(docLink);\n",
              "        }\n",
              "      </script>\n",
              "    </div>\n",
              "  </div>\n",
              "  "
            ]
          },
          "metadata": {},
          "execution_count": 8
        }
      ]
    },
    {
      "cell_type": "code",
      "source": [
        "def haversine_distance(df, lat1, long1, lat2, long2):\n",
        "  r = 6371\n",
        "\n",
        "  phi1 = np.radians(df[lat1])\n",
        "  phi2 = np.radians(df[lat2])\n",
        "\n",
        "  delta_phi = np.radians(df[lat2]-df[lat1])\n",
        "  delta_lambda = np.radians(df[long2]-df[long1])\n",
        "\n",
        "  a = np.sin(delta_phi/2)**2 + np.cos(phi1) * np.cos(phi2) * np.sin(delta_lambda/2)**2\n",
        "  c = 2 * np.arctan2(np.sqrt(a), np.sqrt(1-a))\n",
        "  d = (r * c)\n",
        "\n",
        "  return d"
      ],
      "metadata": {
        "id": "OZTk_SeaxkcS"
      },
      "execution_count": 9,
      "outputs": []
    },
    {
      "cell_type": "code",
      "source": [
        "df['dist_km'] = haversine_distance(df, 'pickup_latitude', 'pickup_longitude', 'dropoff_latitude', 'dropoff_longitude')\n",
        "df.head()"
      ],
      "metadata": {
        "colab": {
          "base_uri": "https://localhost:8080/",
          "height": 206
        },
        "id": "X0Ggyiyc2Bwl",
        "outputId": "64d2a1ec-a044-4f0a-c38a-e7112a44e471"
      },
      "execution_count": 10,
      "outputs": [
        {
          "output_type": "execute_result",
          "data": {
            "text/plain": [
              "           pickup_datetime  fare_amount  fare_class  pickup_longitude  \\\n",
              "0  2010-04-19 08:17:56 UTC          6.5           0        -73.992365   \n",
              "1  2010-04-17 15:43:53 UTC          6.9           0        -73.990078   \n",
              "2  2010-04-17 11:23:26 UTC         10.1           1        -73.994149   \n",
              "3  2010-04-11 21:25:03 UTC          8.9           0        -73.990485   \n",
              "4  2010-04-17 02:19:01 UTC         19.7           1        -73.990976   \n",
              "\n",
              "   pickup_latitude  dropoff_longitude  dropoff_latitude  passenger_count  \\\n",
              "0        40.730521         -73.975499         40.744746                1   \n",
              "1        40.740558         -73.974232         40.744114                1   \n",
              "2        40.751118         -73.960064         40.766235                2   \n",
              "3        40.756422         -73.971205         40.748192                1   \n",
              "4        40.734202         -73.905956         40.743115                1   \n",
              "\n",
              "    dist_km  \n",
              "0  2.126312  \n",
              "1  1.392307  \n",
              "2  3.326763  \n",
              "3  1.864129  \n",
              "4  7.231321  "
            ],
            "text/html": [
              "\n",
              "  <div id=\"df-430340e9-8e9f-44cd-bb21-4622af99143c\">\n",
              "    <div class=\"colab-df-container\">\n",
              "      <div>\n",
              "<style scoped>\n",
              "    .dataframe tbody tr th:only-of-type {\n",
              "        vertical-align: middle;\n",
              "    }\n",
              "\n",
              "    .dataframe tbody tr th {\n",
              "        vertical-align: top;\n",
              "    }\n",
              "\n",
              "    .dataframe thead th {\n",
              "        text-align: right;\n",
              "    }\n",
              "</style>\n",
              "<table border=\"1\" class=\"dataframe\">\n",
              "  <thead>\n",
              "    <tr style=\"text-align: right;\">\n",
              "      <th></th>\n",
              "      <th>pickup_datetime</th>\n",
              "      <th>fare_amount</th>\n",
              "      <th>fare_class</th>\n",
              "      <th>pickup_longitude</th>\n",
              "      <th>pickup_latitude</th>\n",
              "      <th>dropoff_longitude</th>\n",
              "      <th>dropoff_latitude</th>\n",
              "      <th>passenger_count</th>\n",
              "      <th>dist_km</th>\n",
              "    </tr>\n",
              "  </thead>\n",
              "  <tbody>\n",
              "    <tr>\n",
              "      <th>0</th>\n",
              "      <td>2010-04-19 08:17:56 UTC</td>\n",
              "      <td>6.5</td>\n",
              "      <td>0</td>\n",
              "      <td>-73.992365</td>\n",
              "      <td>40.730521</td>\n",
              "      <td>-73.975499</td>\n",
              "      <td>40.744746</td>\n",
              "      <td>1</td>\n",
              "      <td>2.126312</td>\n",
              "    </tr>\n",
              "    <tr>\n",
              "      <th>1</th>\n",
              "      <td>2010-04-17 15:43:53 UTC</td>\n",
              "      <td>6.9</td>\n",
              "      <td>0</td>\n",
              "      <td>-73.990078</td>\n",
              "      <td>40.740558</td>\n",
              "      <td>-73.974232</td>\n",
              "      <td>40.744114</td>\n",
              "      <td>1</td>\n",
              "      <td>1.392307</td>\n",
              "    </tr>\n",
              "    <tr>\n",
              "      <th>2</th>\n",
              "      <td>2010-04-17 11:23:26 UTC</td>\n",
              "      <td>10.1</td>\n",
              "      <td>1</td>\n",
              "      <td>-73.994149</td>\n",
              "      <td>40.751118</td>\n",
              "      <td>-73.960064</td>\n",
              "      <td>40.766235</td>\n",
              "      <td>2</td>\n",
              "      <td>3.326763</td>\n",
              "    </tr>\n",
              "    <tr>\n",
              "      <th>3</th>\n",
              "      <td>2010-04-11 21:25:03 UTC</td>\n",
              "      <td>8.9</td>\n",
              "      <td>0</td>\n",
              "      <td>-73.990485</td>\n",
              "      <td>40.756422</td>\n",
              "      <td>-73.971205</td>\n",
              "      <td>40.748192</td>\n",
              "      <td>1</td>\n",
              "      <td>1.864129</td>\n",
              "    </tr>\n",
              "    <tr>\n",
              "      <th>4</th>\n",
              "      <td>2010-04-17 02:19:01 UTC</td>\n",
              "      <td>19.7</td>\n",
              "      <td>1</td>\n",
              "      <td>-73.990976</td>\n",
              "      <td>40.734202</td>\n",
              "      <td>-73.905956</td>\n",
              "      <td>40.743115</td>\n",
              "      <td>1</td>\n",
              "      <td>7.231321</td>\n",
              "    </tr>\n",
              "  </tbody>\n",
              "</table>\n",
              "</div>\n",
              "      <button class=\"colab-df-convert\" onclick=\"convertToInteractive('df-430340e9-8e9f-44cd-bb21-4622af99143c')\"\n",
              "              title=\"Convert this dataframe to an interactive table.\"\n",
              "              style=\"display:none;\">\n",
              "        \n",
              "  <svg xmlns=\"http://www.w3.org/2000/svg\" height=\"24px\"viewBox=\"0 0 24 24\"\n",
              "       width=\"24px\">\n",
              "    <path d=\"M0 0h24v24H0V0z\" fill=\"none\"/>\n",
              "    <path d=\"M18.56 5.44l.94 2.06.94-2.06 2.06-.94-2.06-.94-.94-2.06-.94 2.06-2.06.94zm-11 1L8.5 8.5l.94-2.06 2.06-.94-2.06-.94L8.5 2.5l-.94 2.06-2.06.94zm10 10l.94 2.06.94-2.06 2.06-.94-2.06-.94-.94-2.06-.94 2.06-2.06.94z\"/><path d=\"M17.41 7.96l-1.37-1.37c-.4-.4-.92-.59-1.43-.59-.52 0-1.04.2-1.43.59L10.3 9.45l-7.72 7.72c-.78.78-.78 2.05 0 2.83L4 21.41c.39.39.9.59 1.41.59.51 0 1.02-.2 1.41-.59l7.78-7.78 2.81-2.81c.8-.78.8-2.07 0-2.86zM5.41 20L4 18.59l7.72-7.72 1.47 1.35L5.41 20z\"/>\n",
              "  </svg>\n",
              "      </button>\n",
              "      \n",
              "  <style>\n",
              "    .colab-df-container {\n",
              "      display:flex;\n",
              "      flex-wrap:wrap;\n",
              "      gap: 12px;\n",
              "    }\n",
              "\n",
              "    .colab-df-convert {\n",
              "      background-color: #E8F0FE;\n",
              "      border: none;\n",
              "      border-radius: 50%;\n",
              "      cursor: pointer;\n",
              "      display: none;\n",
              "      fill: #1967D2;\n",
              "      height: 32px;\n",
              "      padding: 0 0 0 0;\n",
              "      width: 32px;\n",
              "    }\n",
              "\n",
              "    .colab-df-convert:hover {\n",
              "      background-color: #E2EBFA;\n",
              "      box-shadow: 0px 1px 2px rgba(60, 64, 67, 0.3), 0px 1px 3px 1px rgba(60, 64, 67, 0.15);\n",
              "      fill: #174EA6;\n",
              "    }\n",
              "\n",
              "    [theme=dark] .colab-df-convert {\n",
              "      background-color: #3B4455;\n",
              "      fill: #D2E3FC;\n",
              "    }\n",
              "\n",
              "    [theme=dark] .colab-df-convert:hover {\n",
              "      background-color: #434B5C;\n",
              "      box-shadow: 0px 1px 3px 1px rgba(0, 0, 0, 0.15);\n",
              "      filter: drop-shadow(0px 1px 2px rgba(0, 0, 0, 0.3));\n",
              "      fill: #FFFFFF;\n",
              "    }\n",
              "  </style>\n",
              "\n",
              "      <script>\n",
              "        const buttonEl =\n",
              "          document.querySelector('#df-430340e9-8e9f-44cd-bb21-4622af99143c button.colab-df-convert');\n",
              "        buttonEl.style.display =\n",
              "          google.colab.kernel.accessAllowed ? 'block' : 'none';\n",
              "\n",
              "        async function convertToInteractive(key) {\n",
              "          const element = document.querySelector('#df-430340e9-8e9f-44cd-bb21-4622af99143c');\n",
              "          const dataTable =\n",
              "            await google.colab.kernel.invokeFunction('convertToInteractive',\n",
              "                                                     [key], {});\n",
              "          if (!dataTable) return;\n",
              "\n",
              "          const docLinkHtml = 'Like what you see? Visit the ' +\n",
              "            '<a target=\"_blank\" href=https://colab.research.google.com/notebooks/data_table.ipynb>data table notebook</a>'\n",
              "            + ' to learn more about interactive tables.';\n",
              "          element.innerHTML = '';\n",
              "          dataTable['output_type'] = 'display_data';\n",
              "          await google.colab.output.renderOutput(dataTable, element);\n",
              "          const docLink = document.createElement('div');\n",
              "          docLink.innerHTML = docLinkHtml;\n",
              "          element.appendChild(docLink);\n",
              "        }\n",
              "      </script>\n",
              "    </div>\n",
              "  </div>\n",
              "  "
            ]
          },
          "metadata": {},
          "execution_count": 10
        }
      ]
    },
    {
      "cell_type": "code",
      "source": [
        "df.columns"
      ],
      "metadata": {
        "id": "lBZ82hls3Hgk",
        "colab": {
          "base_uri": "https://localhost:8080/"
        },
        "outputId": "77373bc5-49f1-4d1b-f532-eaa0a701baeb"
      },
      "execution_count": 11,
      "outputs": [
        {
          "output_type": "execute_result",
          "data": {
            "text/plain": [
              "Index(['pickup_datetime', 'fare_amount', 'fare_class', 'pickup_longitude',\n",
              "       'pickup_latitude', 'dropoff_longitude', 'dropoff_latitude',\n",
              "       'passenger_count', 'dist_km'],\n",
              "      dtype='object')"
            ]
          },
          "metadata": {},
          "execution_count": 11
        }
      ]
    },
    {
      "cell_type": "code",
      "source": [
        "df.info()"
      ],
      "metadata": {
        "colab": {
          "base_uri": "https://localhost:8080/"
        },
        "id": "L1BfYXERbrc9",
        "outputId": "ef773a99-9e2c-4530-b71d-636cd6c3d277"
      },
      "execution_count": 12,
      "outputs": [
        {
          "output_type": "stream",
          "name": "stdout",
          "text": [
            "<class 'pandas.core.frame.DataFrame'>\n",
            "RangeIndex: 120000 entries, 0 to 119999\n",
            "Data columns (total 9 columns):\n",
            " #   Column             Non-Null Count   Dtype  \n",
            "---  ------             --------------   -----  \n",
            " 0   pickup_datetime    120000 non-null  object \n",
            " 1   fare_amount        120000 non-null  float64\n",
            " 2   fare_class         120000 non-null  int64  \n",
            " 3   pickup_longitude   120000 non-null  float64\n",
            " 4   pickup_latitude    120000 non-null  float64\n",
            " 5   dropoff_longitude  120000 non-null  float64\n",
            " 6   dropoff_latitude   120000 non-null  float64\n",
            " 7   passenger_count    120000 non-null  int64  \n",
            " 8   dist_km            120000 non-null  float64\n",
            "dtypes: float64(6), int64(2), object(1)\n",
            "memory usage: 8.2+ MB\n"
          ]
        }
      ]
    },
    {
      "cell_type": "code",
      "source": [
        "df['pickup_datetime'] = pd.to_datetime(df['pickup_datetime'])"
      ],
      "metadata": {
        "id": "pa0NVYQYbtHl"
      },
      "execution_count": 13,
      "outputs": []
    },
    {
      "cell_type": "code",
      "source": [
        "df.info()"
      ],
      "metadata": {
        "colab": {
          "base_uri": "https://localhost:8080/"
        },
        "id": "muHRRoaocD9s",
        "outputId": "f4ea49dc-41ed-4874-9204-9be725ec25c8"
      },
      "execution_count": 14,
      "outputs": [
        {
          "output_type": "stream",
          "name": "stdout",
          "text": [
            "<class 'pandas.core.frame.DataFrame'>\n",
            "RangeIndex: 120000 entries, 0 to 119999\n",
            "Data columns (total 9 columns):\n",
            " #   Column             Non-Null Count   Dtype              \n",
            "---  ------             --------------   -----              \n",
            " 0   pickup_datetime    120000 non-null  datetime64[ns, UTC]\n",
            " 1   fare_amount        120000 non-null  float64            \n",
            " 2   fare_class         120000 non-null  int64              \n",
            " 3   pickup_longitude   120000 non-null  float64            \n",
            " 4   pickup_latitude    120000 non-null  float64            \n",
            " 5   dropoff_longitude  120000 non-null  float64            \n",
            " 6   dropoff_latitude   120000 non-null  float64            \n",
            " 7   passenger_count    120000 non-null  int64              \n",
            " 8   dist_km            120000 non-null  float64            \n",
            "dtypes: datetime64[ns, UTC](1), float64(6), int64(2)\n",
            "memory usage: 8.2 MB\n"
          ]
        }
      ]
    },
    {
      "cell_type": "code",
      "source": [
        "df.head()"
      ],
      "metadata": {
        "colab": {
          "base_uri": "https://localhost:8080/",
          "height": 206
        },
        "id": "iOXzhjHocIxl",
        "outputId": "748ba26f-fc88-483e-dc63-d00e61244670"
      },
      "execution_count": 15,
      "outputs": [
        {
          "output_type": "execute_result",
          "data": {
            "text/plain": [
              "            pickup_datetime  fare_amount  fare_class  pickup_longitude  \\\n",
              "0 2010-04-19 08:17:56+00:00          6.5           0        -73.992365   \n",
              "1 2010-04-17 15:43:53+00:00          6.9           0        -73.990078   \n",
              "2 2010-04-17 11:23:26+00:00         10.1           1        -73.994149   \n",
              "3 2010-04-11 21:25:03+00:00          8.9           0        -73.990485   \n",
              "4 2010-04-17 02:19:01+00:00         19.7           1        -73.990976   \n",
              "\n",
              "   pickup_latitude  dropoff_longitude  dropoff_latitude  passenger_count  \\\n",
              "0        40.730521         -73.975499         40.744746                1   \n",
              "1        40.740558         -73.974232         40.744114                1   \n",
              "2        40.751118         -73.960064         40.766235                2   \n",
              "3        40.756422         -73.971205         40.748192                1   \n",
              "4        40.734202         -73.905956         40.743115                1   \n",
              "\n",
              "    dist_km  \n",
              "0  2.126312  \n",
              "1  1.392307  \n",
              "2  3.326763  \n",
              "3  1.864129  \n",
              "4  7.231321  "
            ],
            "text/html": [
              "\n",
              "  <div id=\"df-465bdd6f-ea56-4047-ac1a-3e4ef195f8bd\">\n",
              "    <div class=\"colab-df-container\">\n",
              "      <div>\n",
              "<style scoped>\n",
              "    .dataframe tbody tr th:only-of-type {\n",
              "        vertical-align: middle;\n",
              "    }\n",
              "\n",
              "    .dataframe tbody tr th {\n",
              "        vertical-align: top;\n",
              "    }\n",
              "\n",
              "    .dataframe thead th {\n",
              "        text-align: right;\n",
              "    }\n",
              "</style>\n",
              "<table border=\"1\" class=\"dataframe\">\n",
              "  <thead>\n",
              "    <tr style=\"text-align: right;\">\n",
              "      <th></th>\n",
              "      <th>pickup_datetime</th>\n",
              "      <th>fare_amount</th>\n",
              "      <th>fare_class</th>\n",
              "      <th>pickup_longitude</th>\n",
              "      <th>pickup_latitude</th>\n",
              "      <th>dropoff_longitude</th>\n",
              "      <th>dropoff_latitude</th>\n",
              "      <th>passenger_count</th>\n",
              "      <th>dist_km</th>\n",
              "    </tr>\n",
              "  </thead>\n",
              "  <tbody>\n",
              "    <tr>\n",
              "      <th>0</th>\n",
              "      <td>2010-04-19 08:17:56+00:00</td>\n",
              "      <td>6.5</td>\n",
              "      <td>0</td>\n",
              "      <td>-73.992365</td>\n",
              "      <td>40.730521</td>\n",
              "      <td>-73.975499</td>\n",
              "      <td>40.744746</td>\n",
              "      <td>1</td>\n",
              "      <td>2.126312</td>\n",
              "    </tr>\n",
              "    <tr>\n",
              "      <th>1</th>\n",
              "      <td>2010-04-17 15:43:53+00:00</td>\n",
              "      <td>6.9</td>\n",
              "      <td>0</td>\n",
              "      <td>-73.990078</td>\n",
              "      <td>40.740558</td>\n",
              "      <td>-73.974232</td>\n",
              "      <td>40.744114</td>\n",
              "      <td>1</td>\n",
              "      <td>1.392307</td>\n",
              "    </tr>\n",
              "    <tr>\n",
              "      <th>2</th>\n",
              "      <td>2010-04-17 11:23:26+00:00</td>\n",
              "      <td>10.1</td>\n",
              "      <td>1</td>\n",
              "      <td>-73.994149</td>\n",
              "      <td>40.751118</td>\n",
              "      <td>-73.960064</td>\n",
              "      <td>40.766235</td>\n",
              "      <td>2</td>\n",
              "      <td>3.326763</td>\n",
              "    </tr>\n",
              "    <tr>\n",
              "      <th>3</th>\n",
              "      <td>2010-04-11 21:25:03+00:00</td>\n",
              "      <td>8.9</td>\n",
              "      <td>0</td>\n",
              "      <td>-73.990485</td>\n",
              "      <td>40.756422</td>\n",
              "      <td>-73.971205</td>\n",
              "      <td>40.748192</td>\n",
              "      <td>1</td>\n",
              "      <td>1.864129</td>\n",
              "    </tr>\n",
              "    <tr>\n",
              "      <th>4</th>\n",
              "      <td>2010-04-17 02:19:01+00:00</td>\n",
              "      <td>19.7</td>\n",
              "      <td>1</td>\n",
              "      <td>-73.990976</td>\n",
              "      <td>40.734202</td>\n",
              "      <td>-73.905956</td>\n",
              "      <td>40.743115</td>\n",
              "      <td>1</td>\n",
              "      <td>7.231321</td>\n",
              "    </tr>\n",
              "  </tbody>\n",
              "</table>\n",
              "</div>\n",
              "      <button class=\"colab-df-convert\" onclick=\"convertToInteractive('df-465bdd6f-ea56-4047-ac1a-3e4ef195f8bd')\"\n",
              "              title=\"Convert this dataframe to an interactive table.\"\n",
              "              style=\"display:none;\">\n",
              "        \n",
              "  <svg xmlns=\"http://www.w3.org/2000/svg\" height=\"24px\"viewBox=\"0 0 24 24\"\n",
              "       width=\"24px\">\n",
              "    <path d=\"M0 0h24v24H0V0z\" fill=\"none\"/>\n",
              "    <path d=\"M18.56 5.44l.94 2.06.94-2.06 2.06-.94-2.06-.94-.94-2.06-.94 2.06-2.06.94zm-11 1L8.5 8.5l.94-2.06 2.06-.94-2.06-.94L8.5 2.5l-.94 2.06-2.06.94zm10 10l.94 2.06.94-2.06 2.06-.94-2.06-.94-.94-2.06-.94 2.06-2.06.94z\"/><path d=\"M17.41 7.96l-1.37-1.37c-.4-.4-.92-.59-1.43-.59-.52 0-1.04.2-1.43.59L10.3 9.45l-7.72 7.72c-.78.78-.78 2.05 0 2.83L4 21.41c.39.39.9.59 1.41.59.51 0 1.02-.2 1.41-.59l7.78-7.78 2.81-2.81c.8-.78.8-2.07 0-2.86zM5.41 20L4 18.59l7.72-7.72 1.47 1.35L5.41 20z\"/>\n",
              "  </svg>\n",
              "      </button>\n",
              "      \n",
              "  <style>\n",
              "    .colab-df-container {\n",
              "      display:flex;\n",
              "      flex-wrap:wrap;\n",
              "      gap: 12px;\n",
              "    }\n",
              "\n",
              "    .colab-df-convert {\n",
              "      background-color: #E8F0FE;\n",
              "      border: none;\n",
              "      border-radius: 50%;\n",
              "      cursor: pointer;\n",
              "      display: none;\n",
              "      fill: #1967D2;\n",
              "      height: 32px;\n",
              "      padding: 0 0 0 0;\n",
              "      width: 32px;\n",
              "    }\n",
              "\n",
              "    .colab-df-convert:hover {\n",
              "      background-color: #E2EBFA;\n",
              "      box-shadow: 0px 1px 2px rgba(60, 64, 67, 0.3), 0px 1px 3px 1px rgba(60, 64, 67, 0.15);\n",
              "      fill: #174EA6;\n",
              "    }\n",
              "\n",
              "    [theme=dark] .colab-df-convert {\n",
              "      background-color: #3B4455;\n",
              "      fill: #D2E3FC;\n",
              "    }\n",
              "\n",
              "    [theme=dark] .colab-df-convert:hover {\n",
              "      background-color: #434B5C;\n",
              "      box-shadow: 0px 1px 3px 1px rgba(0, 0, 0, 0.15);\n",
              "      filter: drop-shadow(0px 1px 2px rgba(0, 0, 0, 0.3));\n",
              "      fill: #FFFFFF;\n",
              "    }\n",
              "  </style>\n",
              "\n",
              "      <script>\n",
              "        const buttonEl =\n",
              "          document.querySelector('#df-465bdd6f-ea56-4047-ac1a-3e4ef195f8bd button.colab-df-convert');\n",
              "        buttonEl.style.display =\n",
              "          google.colab.kernel.accessAllowed ? 'block' : 'none';\n",
              "\n",
              "        async function convertToInteractive(key) {\n",
              "          const element = document.querySelector('#df-465bdd6f-ea56-4047-ac1a-3e4ef195f8bd');\n",
              "          const dataTable =\n",
              "            await google.colab.kernel.invokeFunction('convertToInteractive',\n",
              "                                                     [key], {});\n",
              "          if (!dataTable) return;\n",
              "\n",
              "          const docLinkHtml = 'Like what you see? Visit the ' +\n",
              "            '<a target=\"_blank\" href=https://colab.research.google.com/notebooks/data_table.ipynb>data table notebook</a>'\n",
              "            + ' to learn more about interactive tables.';\n",
              "          element.innerHTML = '';\n",
              "          dataTable['output_type'] = 'display_data';\n",
              "          await google.colab.output.renderOutput(dataTable, element);\n",
              "          const docLink = document.createElement('div');\n",
              "          docLink.innerHTML = docLinkHtml;\n",
              "          element.appendChild(docLink);\n",
              "        }\n",
              "      </script>\n",
              "    </div>\n",
              "  </div>\n",
              "  "
            ]
          },
          "metadata": {},
          "execution_count": 15
        }
      ]
    },
    {
      "cell_type": "code",
      "source": [
        "my_time = df['pickup_datetime'].values\n",
        "my_time"
      ],
      "metadata": {
        "id": "Y6TlI_BLcPDk",
        "colab": {
          "base_uri": "https://localhost:8080/"
        },
        "outputId": "d1c7e4d4-ffe7-4b42-d510-f77bd1a4d63b"
      },
      "execution_count": 16,
      "outputs": [
        {
          "output_type": "execute_result",
          "data": {
            "text/plain": [
              "array(['2010-04-19T08:17:56.000000000', '2010-04-17T15:43:53.000000000',\n",
              "       '2010-04-17T11:23:26.000000000', ...,\n",
              "       '2010-04-18T18:50:40.000000000', '2010-04-13T08:14:44.000000000',\n",
              "       '2010-04-17T16:00:14.000000000'], dtype='datetime64[ns]')"
            ]
          },
          "metadata": {},
          "execution_count": 16
        }
      ]
    },
    {
      "cell_type": "code",
      "source": [
        "df['EDTDate'] = df['pickup_datetime'] - pd.Timedelta(hours=4)"
      ],
      "metadata": {
        "id": "NiobMctdccFJ"
      },
      "execution_count": 17,
      "outputs": []
    },
    {
      "cell_type": "code",
      "source": [
        "df['Hour'] = df['EDTDate'].dt.hour"
      ],
      "metadata": {
        "id": "3NKGfw0cdEnR"
      },
      "execution_count": 18,
      "outputs": []
    },
    {
      "cell_type": "code",
      "source": [
        "df['AMorPM'] = np.where(df['Hour']<12, 'AM', 'PM')"
      ],
      "metadata": {
        "id": "YkP6ZMTTdK9y"
      },
      "execution_count": 19,
      "outputs": []
    },
    {
      "cell_type": "code",
      "source": [
        "df.head()"
      ],
      "metadata": {
        "colab": {
          "base_uri": "https://localhost:8080/",
          "height": 206
        },
        "id": "hgOEwSQmdkWW",
        "outputId": "9e3eb5ba-47c1-4d38-e110-7b97650e64bc"
      },
      "execution_count": 20,
      "outputs": [
        {
          "output_type": "execute_result",
          "data": {
            "text/plain": [
              "            pickup_datetime  fare_amount  fare_class  pickup_longitude  \\\n",
              "0 2010-04-19 08:17:56+00:00          6.5           0        -73.992365   \n",
              "1 2010-04-17 15:43:53+00:00          6.9           0        -73.990078   \n",
              "2 2010-04-17 11:23:26+00:00         10.1           1        -73.994149   \n",
              "3 2010-04-11 21:25:03+00:00          8.9           0        -73.990485   \n",
              "4 2010-04-17 02:19:01+00:00         19.7           1        -73.990976   \n",
              "\n",
              "   pickup_latitude  dropoff_longitude  dropoff_latitude  passenger_count  \\\n",
              "0        40.730521         -73.975499         40.744746                1   \n",
              "1        40.740558         -73.974232         40.744114                1   \n",
              "2        40.751118         -73.960064         40.766235                2   \n",
              "3        40.756422         -73.971205         40.748192                1   \n",
              "4        40.734202         -73.905956         40.743115                1   \n",
              "\n",
              "    dist_km                   EDTDate  Hour AMorPM  \n",
              "0  2.126312 2010-04-19 04:17:56+00:00     4     AM  \n",
              "1  1.392307 2010-04-17 11:43:53+00:00    11     AM  \n",
              "2  3.326763 2010-04-17 07:23:26+00:00     7     AM  \n",
              "3  1.864129 2010-04-11 17:25:03+00:00    17     PM  \n",
              "4  7.231321 2010-04-16 22:19:01+00:00    22     PM  "
            ],
            "text/html": [
              "\n",
              "  <div id=\"df-092c5938-299d-4d28-8a88-36c7c71a8a18\">\n",
              "    <div class=\"colab-df-container\">\n",
              "      <div>\n",
              "<style scoped>\n",
              "    .dataframe tbody tr th:only-of-type {\n",
              "        vertical-align: middle;\n",
              "    }\n",
              "\n",
              "    .dataframe tbody tr th {\n",
              "        vertical-align: top;\n",
              "    }\n",
              "\n",
              "    .dataframe thead th {\n",
              "        text-align: right;\n",
              "    }\n",
              "</style>\n",
              "<table border=\"1\" class=\"dataframe\">\n",
              "  <thead>\n",
              "    <tr style=\"text-align: right;\">\n",
              "      <th></th>\n",
              "      <th>pickup_datetime</th>\n",
              "      <th>fare_amount</th>\n",
              "      <th>fare_class</th>\n",
              "      <th>pickup_longitude</th>\n",
              "      <th>pickup_latitude</th>\n",
              "      <th>dropoff_longitude</th>\n",
              "      <th>dropoff_latitude</th>\n",
              "      <th>passenger_count</th>\n",
              "      <th>dist_km</th>\n",
              "      <th>EDTDate</th>\n",
              "      <th>Hour</th>\n",
              "      <th>AMorPM</th>\n",
              "    </tr>\n",
              "  </thead>\n",
              "  <tbody>\n",
              "    <tr>\n",
              "      <th>0</th>\n",
              "      <td>2010-04-19 08:17:56+00:00</td>\n",
              "      <td>6.5</td>\n",
              "      <td>0</td>\n",
              "      <td>-73.992365</td>\n",
              "      <td>40.730521</td>\n",
              "      <td>-73.975499</td>\n",
              "      <td>40.744746</td>\n",
              "      <td>1</td>\n",
              "      <td>2.126312</td>\n",
              "      <td>2010-04-19 04:17:56+00:00</td>\n",
              "      <td>4</td>\n",
              "      <td>AM</td>\n",
              "    </tr>\n",
              "    <tr>\n",
              "      <th>1</th>\n",
              "      <td>2010-04-17 15:43:53+00:00</td>\n",
              "      <td>6.9</td>\n",
              "      <td>0</td>\n",
              "      <td>-73.990078</td>\n",
              "      <td>40.740558</td>\n",
              "      <td>-73.974232</td>\n",
              "      <td>40.744114</td>\n",
              "      <td>1</td>\n",
              "      <td>1.392307</td>\n",
              "      <td>2010-04-17 11:43:53+00:00</td>\n",
              "      <td>11</td>\n",
              "      <td>AM</td>\n",
              "    </tr>\n",
              "    <tr>\n",
              "      <th>2</th>\n",
              "      <td>2010-04-17 11:23:26+00:00</td>\n",
              "      <td>10.1</td>\n",
              "      <td>1</td>\n",
              "      <td>-73.994149</td>\n",
              "      <td>40.751118</td>\n",
              "      <td>-73.960064</td>\n",
              "      <td>40.766235</td>\n",
              "      <td>2</td>\n",
              "      <td>3.326763</td>\n",
              "      <td>2010-04-17 07:23:26+00:00</td>\n",
              "      <td>7</td>\n",
              "      <td>AM</td>\n",
              "    </tr>\n",
              "    <tr>\n",
              "      <th>3</th>\n",
              "      <td>2010-04-11 21:25:03+00:00</td>\n",
              "      <td>8.9</td>\n",
              "      <td>0</td>\n",
              "      <td>-73.990485</td>\n",
              "      <td>40.756422</td>\n",
              "      <td>-73.971205</td>\n",
              "      <td>40.748192</td>\n",
              "      <td>1</td>\n",
              "      <td>1.864129</td>\n",
              "      <td>2010-04-11 17:25:03+00:00</td>\n",
              "      <td>17</td>\n",
              "      <td>PM</td>\n",
              "    </tr>\n",
              "    <tr>\n",
              "      <th>4</th>\n",
              "      <td>2010-04-17 02:19:01+00:00</td>\n",
              "      <td>19.7</td>\n",
              "      <td>1</td>\n",
              "      <td>-73.990976</td>\n",
              "      <td>40.734202</td>\n",
              "      <td>-73.905956</td>\n",
              "      <td>40.743115</td>\n",
              "      <td>1</td>\n",
              "      <td>7.231321</td>\n",
              "      <td>2010-04-16 22:19:01+00:00</td>\n",
              "      <td>22</td>\n",
              "      <td>PM</td>\n",
              "    </tr>\n",
              "  </tbody>\n",
              "</table>\n",
              "</div>\n",
              "      <button class=\"colab-df-convert\" onclick=\"convertToInteractive('df-092c5938-299d-4d28-8a88-36c7c71a8a18')\"\n",
              "              title=\"Convert this dataframe to an interactive table.\"\n",
              "              style=\"display:none;\">\n",
              "        \n",
              "  <svg xmlns=\"http://www.w3.org/2000/svg\" height=\"24px\"viewBox=\"0 0 24 24\"\n",
              "       width=\"24px\">\n",
              "    <path d=\"M0 0h24v24H0V0z\" fill=\"none\"/>\n",
              "    <path d=\"M18.56 5.44l.94 2.06.94-2.06 2.06-.94-2.06-.94-.94-2.06-.94 2.06-2.06.94zm-11 1L8.5 8.5l.94-2.06 2.06-.94-2.06-.94L8.5 2.5l-.94 2.06-2.06.94zm10 10l.94 2.06.94-2.06 2.06-.94-2.06-.94-.94-2.06-.94 2.06-2.06.94z\"/><path d=\"M17.41 7.96l-1.37-1.37c-.4-.4-.92-.59-1.43-.59-.52 0-1.04.2-1.43.59L10.3 9.45l-7.72 7.72c-.78.78-.78 2.05 0 2.83L4 21.41c.39.39.9.59 1.41.59.51 0 1.02-.2 1.41-.59l7.78-7.78 2.81-2.81c.8-.78.8-2.07 0-2.86zM5.41 20L4 18.59l7.72-7.72 1.47 1.35L5.41 20z\"/>\n",
              "  </svg>\n",
              "      </button>\n",
              "      \n",
              "  <style>\n",
              "    .colab-df-container {\n",
              "      display:flex;\n",
              "      flex-wrap:wrap;\n",
              "      gap: 12px;\n",
              "    }\n",
              "\n",
              "    .colab-df-convert {\n",
              "      background-color: #E8F0FE;\n",
              "      border: none;\n",
              "      border-radius: 50%;\n",
              "      cursor: pointer;\n",
              "      display: none;\n",
              "      fill: #1967D2;\n",
              "      height: 32px;\n",
              "      padding: 0 0 0 0;\n",
              "      width: 32px;\n",
              "    }\n",
              "\n",
              "    .colab-df-convert:hover {\n",
              "      background-color: #E2EBFA;\n",
              "      box-shadow: 0px 1px 2px rgba(60, 64, 67, 0.3), 0px 1px 3px 1px rgba(60, 64, 67, 0.15);\n",
              "      fill: #174EA6;\n",
              "    }\n",
              "\n",
              "    [theme=dark] .colab-df-convert {\n",
              "      background-color: #3B4455;\n",
              "      fill: #D2E3FC;\n",
              "    }\n",
              "\n",
              "    [theme=dark] .colab-df-convert:hover {\n",
              "      background-color: #434B5C;\n",
              "      box-shadow: 0px 1px 3px 1px rgba(0, 0, 0, 0.15);\n",
              "      filter: drop-shadow(0px 1px 2px rgba(0, 0, 0, 0.3));\n",
              "      fill: #FFFFFF;\n",
              "    }\n",
              "  </style>\n",
              "\n",
              "      <script>\n",
              "        const buttonEl =\n",
              "          document.querySelector('#df-092c5938-299d-4d28-8a88-36c7c71a8a18 button.colab-df-convert');\n",
              "        buttonEl.style.display =\n",
              "          google.colab.kernel.accessAllowed ? 'block' : 'none';\n",
              "\n",
              "        async function convertToInteractive(key) {\n",
              "          const element = document.querySelector('#df-092c5938-299d-4d28-8a88-36c7c71a8a18');\n",
              "          const dataTable =\n",
              "            await google.colab.kernel.invokeFunction('convertToInteractive',\n",
              "                                                     [key], {});\n",
              "          if (!dataTable) return;\n",
              "\n",
              "          const docLinkHtml = 'Like what you see? Visit the ' +\n",
              "            '<a target=\"_blank\" href=https://colab.research.google.com/notebooks/data_table.ipynb>data table notebook</a>'\n",
              "            + ' to learn more about interactive tables.';\n",
              "          element.innerHTML = '';\n",
              "          dataTable['output_type'] = 'display_data';\n",
              "          await google.colab.output.renderOutput(dataTable, element);\n",
              "          const docLink = document.createElement('div');\n",
              "          docLink.innerHTML = docLinkHtml;\n",
              "          element.appendChild(docLink);\n",
              "        }\n",
              "      </script>\n",
              "    </div>\n",
              "  </div>\n",
              "  "
            ]
          },
          "metadata": {},
          "execution_count": 20
        }
      ]
    },
    {
      "cell_type": "code",
      "source": [
        "df['Weekday'] = df['EDTDate'].dt.strftime(\"%a\")"
      ],
      "metadata": {
        "id": "sHDlnQVgdle-"
      },
      "execution_count": 21,
      "outputs": []
    },
    {
      "cell_type": "code",
      "source": [
        "df.head()"
      ],
      "metadata": {
        "colab": {
          "base_uri": "https://localhost:8080/",
          "height": 337
        },
        "id": "lxMHocDGd0nc",
        "outputId": "5ba7085a-e0ae-484d-9b61-fabc1c6e3fb7"
      },
      "execution_count": 22,
      "outputs": [
        {
          "output_type": "execute_result",
          "data": {
            "text/plain": [
              "            pickup_datetime  fare_amount  fare_class  pickup_longitude  \\\n",
              "0 2010-04-19 08:17:56+00:00          6.5           0        -73.992365   \n",
              "1 2010-04-17 15:43:53+00:00          6.9           0        -73.990078   \n",
              "2 2010-04-17 11:23:26+00:00         10.1           1        -73.994149   \n",
              "3 2010-04-11 21:25:03+00:00          8.9           0        -73.990485   \n",
              "4 2010-04-17 02:19:01+00:00         19.7           1        -73.990976   \n",
              "\n",
              "   pickup_latitude  dropoff_longitude  dropoff_latitude  passenger_count  \\\n",
              "0        40.730521         -73.975499         40.744746                1   \n",
              "1        40.740558         -73.974232         40.744114                1   \n",
              "2        40.751118         -73.960064         40.766235                2   \n",
              "3        40.756422         -73.971205         40.748192                1   \n",
              "4        40.734202         -73.905956         40.743115                1   \n",
              "\n",
              "    dist_km                   EDTDate  Hour AMorPM Weekday  \n",
              "0  2.126312 2010-04-19 04:17:56+00:00     4     AM     Mon  \n",
              "1  1.392307 2010-04-17 11:43:53+00:00    11     AM     Sat  \n",
              "2  3.326763 2010-04-17 07:23:26+00:00     7     AM     Sat  \n",
              "3  1.864129 2010-04-11 17:25:03+00:00    17     PM     Sun  \n",
              "4  7.231321 2010-04-16 22:19:01+00:00    22     PM     Fri  "
            ],
            "text/html": [
              "\n",
              "  <div id=\"df-8f1d5dd9-6046-4b6d-b51e-36862ecc81eb\">\n",
              "    <div class=\"colab-df-container\">\n",
              "      <div>\n",
              "<style scoped>\n",
              "    .dataframe tbody tr th:only-of-type {\n",
              "        vertical-align: middle;\n",
              "    }\n",
              "\n",
              "    .dataframe tbody tr th {\n",
              "        vertical-align: top;\n",
              "    }\n",
              "\n",
              "    .dataframe thead th {\n",
              "        text-align: right;\n",
              "    }\n",
              "</style>\n",
              "<table border=\"1\" class=\"dataframe\">\n",
              "  <thead>\n",
              "    <tr style=\"text-align: right;\">\n",
              "      <th></th>\n",
              "      <th>pickup_datetime</th>\n",
              "      <th>fare_amount</th>\n",
              "      <th>fare_class</th>\n",
              "      <th>pickup_longitude</th>\n",
              "      <th>pickup_latitude</th>\n",
              "      <th>dropoff_longitude</th>\n",
              "      <th>dropoff_latitude</th>\n",
              "      <th>passenger_count</th>\n",
              "      <th>dist_km</th>\n",
              "      <th>EDTDate</th>\n",
              "      <th>Hour</th>\n",
              "      <th>AMorPM</th>\n",
              "      <th>Weekday</th>\n",
              "    </tr>\n",
              "  </thead>\n",
              "  <tbody>\n",
              "    <tr>\n",
              "      <th>0</th>\n",
              "      <td>2010-04-19 08:17:56+00:00</td>\n",
              "      <td>6.5</td>\n",
              "      <td>0</td>\n",
              "      <td>-73.992365</td>\n",
              "      <td>40.730521</td>\n",
              "      <td>-73.975499</td>\n",
              "      <td>40.744746</td>\n",
              "      <td>1</td>\n",
              "      <td>2.126312</td>\n",
              "      <td>2010-04-19 04:17:56+00:00</td>\n",
              "      <td>4</td>\n",
              "      <td>AM</td>\n",
              "      <td>Mon</td>\n",
              "    </tr>\n",
              "    <tr>\n",
              "      <th>1</th>\n",
              "      <td>2010-04-17 15:43:53+00:00</td>\n",
              "      <td>6.9</td>\n",
              "      <td>0</td>\n",
              "      <td>-73.990078</td>\n",
              "      <td>40.740558</td>\n",
              "      <td>-73.974232</td>\n",
              "      <td>40.744114</td>\n",
              "      <td>1</td>\n",
              "      <td>1.392307</td>\n",
              "      <td>2010-04-17 11:43:53+00:00</td>\n",
              "      <td>11</td>\n",
              "      <td>AM</td>\n",
              "      <td>Sat</td>\n",
              "    </tr>\n",
              "    <tr>\n",
              "      <th>2</th>\n",
              "      <td>2010-04-17 11:23:26+00:00</td>\n",
              "      <td>10.1</td>\n",
              "      <td>1</td>\n",
              "      <td>-73.994149</td>\n",
              "      <td>40.751118</td>\n",
              "      <td>-73.960064</td>\n",
              "      <td>40.766235</td>\n",
              "      <td>2</td>\n",
              "      <td>3.326763</td>\n",
              "      <td>2010-04-17 07:23:26+00:00</td>\n",
              "      <td>7</td>\n",
              "      <td>AM</td>\n",
              "      <td>Sat</td>\n",
              "    </tr>\n",
              "    <tr>\n",
              "      <th>3</th>\n",
              "      <td>2010-04-11 21:25:03+00:00</td>\n",
              "      <td>8.9</td>\n",
              "      <td>0</td>\n",
              "      <td>-73.990485</td>\n",
              "      <td>40.756422</td>\n",
              "      <td>-73.971205</td>\n",
              "      <td>40.748192</td>\n",
              "      <td>1</td>\n",
              "      <td>1.864129</td>\n",
              "      <td>2010-04-11 17:25:03+00:00</td>\n",
              "      <td>17</td>\n",
              "      <td>PM</td>\n",
              "      <td>Sun</td>\n",
              "    </tr>\n",
              "    <tr>\n",
              "      <th>4</th>\n",
              "      <td>2010-04-17 02:19:01+00:00</td>\n",
              "      <td>19.7</td>\n",
              "      <td>1</td>\n",
              "      <td>-73.990976</td>\n",
              "      <td>40.734202</td>\n",
              "      <td>-73.905956</td>\n",
              "      <td>40.743115</td>\n",
              "      <td>1</td>\n",
              "      <td>7.231321</td>\n",
              "      <td>2010-04-16 22:19:01+00:00</td>\n",
              "      <td>22</td>\n",
              "      <td>PM</td>\n",
              "      <td>Fri</td>\n",
              "    </tr>\n",
              "  </tbody>\n",
              "</table>\n",
              "</div>\n",
              "      <button class=\"colab-df-convert\" onclick=\"convertToInteractive('df-8f1d5dd9-6046-4b6d-b51e-36862ecc81eb')\"\n",
              "              title=\"Convert this dataframe to an interactive table.\"\n",
              "              style=\"display:none;\">\n",
              "        \n",
              "  <svg xmlns=\"http://www.w3.org/2000/svg\" height=\"24px\"viewBox=\"0 0 24 24\"\n",
              "       width=\"24px\">\n",
              "    <path d=\"M0 0h24v24H0V0z\" fill=\"none\"/>\n",
              "    <path d=\"M18.56 5.44l.94 2.06.94-2.06 2.06-.94-2.06-.94-.94-2.06-.94 2.06-2.06.94zm-11 1L8.5 8.5l.94-2.06 2.06-.94-2.06-.94L8.5 2.5l-.94 2.06-2.06.94zm10 10l.94 2.06.94-2.06 2.06-.94-2.06-.94-.94-2.06-.94 2.06-2.06.94z\"/><path d=\"M17.41 7.96l-1.37-1.37c-.4-.4-.92-.59-1.43-.59-.52 0-1.04.2-1.43.59L10.3 9.45l-7.72 7.72c-.78.78-.78 2.05 0 2.83L4 21.41c.39.39.9.59 1.41.59.51 0 1.02-.2 1.41-.59l7.78-7.78 2.81-2.81c.8-.78.8-2.07 0-2.86zM5.41 20L4 18.59l7.72-7.72 1.47 1.35L5.41 20z\"/>\n",
              "  </svg>\n",
              "      </button>\n",
              "      \n",
              "  <style>\n",
              "    .colab-df-container {\n",
              "      display:flex;\n",
              "      flex-wrap:wrap;\n",
              "      gap: 12px;\n",
              "    }\n",
              "\n",
              "    .colab-df-convert {\n",
              "      background-color: #E8F0FE;\n",
              "      border: none;\n",
              "      border-radius: 50%;\n",
              "      cursor: pointer;\n",
              "      display: none;\n",
              "      fill: #1967D2;\n",
              "      height: 32px;\n",
              "      padding: 0 0 0 0;\n",
              "      width: 32px;\n",
              "    }\n",
              "\n",
              "    .colab-df-convert:hover {\n",
              "      background-color: #E2EBFA;\n",
              "      box-shadow: 0px 1px 2px rgba(60, 64, 67, 0.3), 0px 1px 3px 1px rgba(60, 64, 67, 0.15);\n",
              "      fill: #174EA6;\n",
              "    }\n",
              "\n",
              "    [theme=dark] .colab-df-convert {\n",
              "      background-color: #3B4455;\n",
              "      fill: #D2E3FC;\n",
              "    }\n",
              "\n",
              "    [theme=dark] .colab-df-convert:hover {\n",
              "      background-color: #434B5C;\n",
              "      box-shadow: 0px 1px 3px 1px rgba(0, 0, 0, 0.15);\n",
              "      filter: drop-shadow(0px 1px 2px rgba(0, 0, 0, 0.3));\n",
              "      fill: #FFFFFF;\n",
              "    }\n",
              "  </style>\n",
              "\n",
              "      <script>\n",
              "        const buttonEl =\n",
              "          document.querySelector('#df-8f1d5dd9-6046-4b6d-b51e-36862ecc81eb button.colab-df-convert');\n",
              "        buttonEl.style.display =\n",
              "          google.colab.kernel.accessAllowed ? 'block' : 'none';\n",
              "\n",
              "        async function convertToInteractive(key) {\n",
              "          const element = document.querySelector('#df-8f1d5dd9-6046-4b6d-b51e-36862ecc81eb');\n",
              "          const dataTable =\n",
              "            await google.colab.kernel.invokeFunction('convertToInteractive',\n",
              "                                                     [key], {});\n",
              "          if (!dataTable) return;\n",
              "\n",
              "          const docLinkHtml = 'Like what you see? Visit the ' +\n",
              "            '<a target=\"_blank\" href=https://colab.research.google.com/notebooks/data_table.ipynb>data table notebook</a>'\n",
              "            + ' to learn more about interactive tables.';\n",
              "          element.innerHTML = '';\n",
              "          dataTable['output_type'] = 'display_data';\n",
              "          await google.colab.output.renderOutput(dataTable, element);\n",
              "          const docLink = document.createElement('div');\n",
              "          docLink.innerHTML = docLinkHtml;\n",
              "          element.appendChild(docLink);\n",
              "        }\n",
              "      </script>\n",
              "    </div>\n",
              "  </div>\n",
              "  "
            ]
          },
          "metadata": {},
          "execution_count": 22
        }
      ]
    },
    {
      "cell_type": "code",
      "source": [
        "df.columns"
      ],
      "metadata": {
        "colab": {
          "base_uri": "https://localhost:8080/"
        },
        "id": "yWv06Z2ifUnK",
        "outputId": "dd363f43-3523-4e87-865b-237ab174bc7e"
      },
      "execution_count": 23,
      "outputs": [
        {
          "output_type": "execute_result",
          "data": {
            "text/plain": [
              "Index(['pickup_datetime', 'fare_amount', 'fare_class', 'pickup_longitude',\n",
              "       'pickup_latitude', 'dropoff_longitude', 'dropoff_latitude',\n",
              "       'passenger_count', 'dist_km', 'EDTDate', 'Hour', 'AMorPM', 'Weekday'],\n",
              "      dtype='object')"
            ]
          },
          "metadata": {},
          "execution_count": 23
        }
      ]
    },
    {
      "cell_type": "code",
      "source": [
        "cat_cols = ['Hour', 'AMorPM', 'Weekday']\n",
        "cont_cols = ['pickup_latitude', 'pickup_longitude', 'dropoff_latitude', 'dropoff_longitude', 'passenger_count', 'dist_km']\n",
        "y_cols = ['fare_amount']"
      ],
      "metadata": {
        "id": "Nk42RuSoeYsr"
      },
      "execution_count": 24,
      "outputs": []
    },
    {
      "cell_type": "code",
      "source": [
        "y_col = ['fare_amount']"
      ],
      "metadata": {
        "id": "EoGbgl77fa17"
      },
      "execution_count": 25,
      "outputs": []
    },
    {
      "cell_type": "code",
      "source": [
        "df.dtypes"
      ],
      "metadata": {
        "colab": {
          "base_uri": "https://localhost:8080/"
        },
        "id": "9I_3kKfIfjJH",
        "outputId": "bbe33e0a-3419-45c0-9091-4476c809e5c2"
      },
      "execution_count": 26,
      "outputs": [
        {
          "output_type": "execute_result",
          "data": {
            "text/plain": [
              "pickup_datetime      datetime64[ns, UTC]\n",
              "fare_amount                      float64\n",
              "fare_class                         int64\n",
              "pickup_longitude                 float64\n",
              "pickup_latitude                  float64\n",
              "dropoff_longitude                float64\n",
              "dropoff_latitude                 float64\n",
              "passenger_count                    int64\n",
              "dist_km                          float64\n",
              "EDTDate              datetime64[ns, UTC]\n",
              "Hour                               int64\n",
              "AMorPM                            object\n",
              "Weekday                           object\n",
              "dtype: object"
            ]
          },
          "metadata": {},
          "execution_count": 26
        }
      ]
    },
    {
      "cell_type": "code",
      "source": [
        "for cat in cat_cols:\n",
        "  df[cat] = df[cat].astype('category')"
      ],
      "metadata": {
        "id": "s2wqoqNefqvS"
      },
      "execution_count": 27,
      "outputs": []
    },
    {
      "cell_type": "code",
      "source": [
        "df.dtypes"
      ],
      "metadata": {
        "colab": {
          "base_uri": "https://localhost:8080/"
        },
        "id": "UaPoSYJIf6X3",
        "outputId": "125d0050-b908-4f17-ae14-97e89e512869"
      },
      "execution_count": 28,
      "outputs": [
        {
          "output_type": "execute_result",
          "data": {
            "text/plain": [
              "pickup_datetime      datetime64[ns, UTC]\n",
              "fare_amount                      float64\n",
              "fare_class                         int64\n",
              "pickup_longitude                 float64\n",
              "pickup_latitude                  float64\n",
              "dropoff_longitude                float64\n",
              "dropoff_latitude                 float64\n",
              "passenger_count                    int64\n",
              "dist_km                          float64\n",
              "EDTDate              datetime64[ns, UTC]\n",
              "Hour                            category\n",
              "AMorPM                          category\n",
              "Weekday                         category\n",
              "dtype: object"
            ]
          },
          "metadata": {},
          "execution_count": 28
        }
      ]
    },
    {
      "cell_type": "code",
      "source": [
        "df['Hour'].head()"
      ],
      "metadata": {
        "colab": {
          "base_uri": "https://localhost:8080/"
        },
        "id": "BuOotyDgf8nB",
        "outputId": "7699f255-4547-4b91-f248-f86cbcdbc77c"
      },
      "execution_count": 29,
      "outputs": [
        {
          "output_type": "execute_result",
          "data": {
            "text/plain": [
              "0     4\n",
              "1    11\n",
              "2     7\n",
              "3    17\n",
              "4    22\n",
              "Name: Hour, dtype: category\n",
              "Categories (24, int64): [0, 1, 2, 3, ..., 20, 21, 22, 23]"
            ]
          },
          "metadata": {},
          "execution_count": 29
        }
      ]
    },
    {
      "cell_type": "code",
      "source": [
        "df['AMorPM'].head()"
      ],
      "metadata": {
        "colab": {
          "base_uri": "https://localhost:8080/"
        },
        "id": "OHwDUYnPf-7k",
        "outputId": "5f196420-ed93-497b-f08f-f5689afc6f31"
      },
      "execution_count": 30,
      "outputs": [
        {
          "output_type": "execute_result",
          "data": {
            "text/plain": [
              "0    AM\n",
              "1    AM\n",
              "2    AM\n",
              "3    PM\n",
              "4    PM\n",
              "Name: AMorPM, dtype: category\n",
              "Categories (2, object): ['AM', 'PM']"
            ]
          },
          "metadata": {},
          "execution_count": 30
        }
      ]
    },
    {
      "cell_type": "code",
      "source": [
        "df['Weekday'].cat.categories"
      ],
      "metadata": {
        "colab": {
          "base_uri": "https://localhost:8080/"
        },
        "id": "pLZPR84RgGah",
        "outputId": "03f12155-9fe6-4434-fb3b-7548a8276077"
      },
      "execution_count": 31,
      "outputs": [
        {
          "output_type": "execute_result",
          "data": {
            "text/plain": [
              "Index(['Fri', 'Mon', 'Sat', 'Sun', 'Thu', 'Tue', 'Wed'], dtype='object')"
            ]
          },
          "metadata": {},
          "execution_count": 31
        }
      ]
    },
    {
      "cell_type": "code",
      "source": [
        "df['Weekday'].cat.codes"
      ],
      "metadata": {
        "colab": {
          "base_uri": "https://localhost:8080/"
        },
        "id": "D-TAgJvrgXId",
        "outputId": "09b66136-c70a-47e3-e816-bde8d0f0d593"
      },
      "execution_count": 32,
      "outputs": [
        {
          "output_type": "execute_result",
          "data": {
            "text/plain": [
              "0         1\n",
              "1         2\n",
              "2         2\n",
              "3         3\n",
              "4         0\n",
              "         ..\n",
              "119995    3\n",
              "119996    0\n",
              "119997    3\n",
              "119998    5\n",
              "119999    2\n",
              "Length: 120000, dtype: int8"
            ]
          },
          "metadata": {},
          "execution_count": 32
        }
      ]
    },
    {
      "cell_type": "code",
      "source": [
        "df['Weekday'].cat.codes.values"
      ],
      "metadata": {
        "colab": {
          "base_uri": "https://localhost:8080/"
        },
        "id": "p_Rvk01Dgbva",
        "outputId": "3bbaf1f8-d533-462e-e7e1-9f5627745c41"
      },
      "execution_count": 33,
      "outputs": [
        {
          "output_type": "execute_result",
          "data": {
            "text/plain": [
              "array([1, 2, 2, ..., 3, 5, 2], dtype=int8)"
            ]
          },
          "metadata": {},
          "execution_count": 33
        }
      ]
    },
    {
      "cell_type": "code",
      "source": [
        "hr = df['Hour'].cat.codes.values\n",
        "ampm = df['AMorPM'].cat.codes.values\n",
        "wkdy = df['Weekday'].cat.codes.values"
      ],
      "metadata": {
        "id": "aBEgY5MvgvjV"
      },
      "execution_count": 34,
      "outputs": []
    },
    {
      "cell_type": "code",
      "source": [
        "cats = np.stack([hr, ampm, wkdy], axis=1)"
      ],
      "metadata": {
        "id": "hjK5fED0iclV"
      },
      "execution_count": 35,
      "outputs": []
    },
    {
      "cell_type": "code",
      "source": [
        "cats"
      ],
      "metadata": {
        "colab": {
          "base_uri": "https://localhost:8080/"
        },
        "id": "T8kDKKX6ik9B",
        "outputId": "86c3d863-d681-4cf2-b862-5afd2172e558"
      },
      "execution_count": 36,
      "outputs": [
        {
          "output_type": "execute_result",
          "data": {
            "text/plain": [
              "array([[ 4,  0,  1],\n",
              "       [11,  0,  2],\n",
              "       [ 7,  0,  2],\n",
              "       ...,\n",
              "       [14,  1,  3],\n",
              "       [ 4,  0,  5],\n",
              "       [12,  1,  2]], dtype=int8)"
            ]
          },
          "metadata": {},
          "execution_count": 36
        }
      ]
    },
    {
      "cell_type": "code",
      "source": [
        "# cats = np.stack([df[col].cat.codes.values for col in cat_cols], 1)"
      ],
      "metadata": {
        "id": "HpM7jaRkilku"
      },
      "execution_count": 37,
      "outputs": []
    },
    {
      "cell_type": "code",
      "source": [
        "cats = torch.tensor(cats, dtype=torch.int64)"
      ],
      "metadata": {
        "id": "HbIeAkqbjHNu"
      },
      "execution_count": 38,
      "outputs": []
    },
    {
      "cell_type": "code",
      "source": [
        "df.dtypes"
      ],
      "metadata": {
        "colab": {
          "base_uri": "https://localhost:8080/"
        },
        "id": "D3m9TrrgkORj",
        "outputId": "0a10263e-6ddb-430e-e4c2-5e1aae6cc887"
      },
      "execution_count": 39,
      "outputs": [
        {
          "output_type": "execute_result",
          "data": {
            "text/plain": [
              "pickup_datetime      datetime64[ns, UTC]\n",
              "fare_amount                      float64\n",
              "fare_class                         int64\n",
              "pickup_longitude                 float64\n",
              "pickup_latitude                  float64\n",
              "dropoff_longitude                float64\n",
              "dropoff_latitude                 float64\n",
              "passenger_count                    int64\n",
              "dist_km                          float64\n",
              "EDTDate              datetime64[ns, UTC]\n",
              "Hour                            category\n",
              "AMorPM                          category\n",
              "Weekday                         category\n",
              "dtype: object"
            ]
          },
          "metadata": {},
          "execution_count": 39
        }
      ]
    },
    {
      "cell_type": "code",
      "source": [
        "conts = np.stack([df[col].values for col in cont_cols], axis=1)"
      ],
      "metadata": {
        "id": "T07TmGiBjgHt"
      },
      "execution_count": 40,
      "outputs": []
    },
    {
      "cell_type": "code",
      "source": [
        "conts = torch.tensor(conts, dtype=torch.float)"
      ],
      "metadata": {
        "id": "Bu2RPnpVjtY5"
      },
      "execution_count": 41,
      "outputs": []
    },
    {
      "cell_type": "code",
      "source": [
        "conts"
      ],
      "metadata": {
        "colab": {
          "base_uri": "https://localhost:8080/"
        },
        "id": "4WurWFM6mp9P",
        "outputId": "6b12b2fb-8d94-4b1b-ad23-d7956ede8097"
      },
      "execution_count": 42,
      "outputs": [
        {
          "output_type": "execute_result",
          "data": {
            "text/plain": [
              "tensor([[ 40.7305, -73.9924,  40.7447, -73.9755,   1.0000,   2.1263],\n",
              "        [ 40.7406, -73.9901,  40.7441, -73.9742,   1.0000,   1.3923],\n",
              "        [ 40.7511, -73.9941,  40.7662, -73.9601,   2.0000,   3.3268],\n",
              "        ...,\n",
              "        [ 40.7498, -73.9886,  40.7078, -74.0115,   3.0000,   5.0525],\n",
              "        [ 40.7245, -74.0044,  40.7308, -73.9927,   1.0000,   1.2089],\n",
              "        [ 40.7719, -73.9554,  40.7630, -73.9676,   3.0000,   1.4274]])"
            ]
          },
          "metadata": {},
          "execution_count": 42
        }
      ]
    },
    {
      "cell_type": "code",
      "source": [
        "y = torch.tensor(df[y_col].values, dtype=torch.float).reshape(-1, 1)"
      ],
      "metadata": {
        "id": "y_89brbCmqzE"
      },
      "execution_count": 43,
      "outputs": []
    },
    {
      "cell_type": "code",
      "source": [
        "cats.shape"
      ],
      "metadata": {
        "colab": {
          "base_uri": "https://localhost:8080/"
        },
        "id": "P9Jb0dSsm0IW",
        "outputId": "a171e113-35c4-4c23-a775-00a4a9aec8d9"
      },
      "execution_count": 44,
      "outputs": [
        {
          "output_type": "execute_result",
          "data": {
            "text/plain": [
              "torch.Size([120000, 3])"
            ]
          },
          "metadata": {},
          "execution_count": 44
        }
      ]
    },
    {
      "cell_type": "code",
      "source": [
        "conts.shape"
      ],
      "metadata": {
        "colab": {
          "base_uri": "https://localhost:8080/"
        },
        "id": "hRMVMgBhnSK_",
        "outputId": "30154107-2354-4baa-fee5-30579f2da523"
      },
      "execution_count": 45,
      "outputs": [
        {
          "output_type": "execute_result",
          "data": {
            "text/plain": [
              "torch.Size([120000, 6])"
            ]
          },
          "metadata": {},
          "execution_count": 45
        }
      ]
    },
    {
      "cell_type": "code",
      "source": [
        "y.shape"
      ],
      "metadata": {
        "colab": {
          "base_uri": "https://localhost:8080/"
        },
        "id": "EDFLLzUFnTR-",
        "outputId": "a1e8eb0f-5981-458d-b76b-b57adbe49503"
      },
      "execution_count": 46,
      "outputs": [
        {
          "output_type": "execute_result",
          "data": {
            "text/plain": [
              "torch.Size([120000, 1])"
            ]
          },
          "metadata": {},
          "execution_count": 46
        }
      ]
    },
    {
      "cell_type": "code",
      "source": [
        "cat_szs = [len(df[col].cat.categories) for col in cat_cols]"
      ],
      "metadata": {
        "id": "2eQn-LLmnWJB"
      },
      "execution_count": 47,
      "outputs": []
    },
    {
      "cell_type": "code",
      "source": [
        "cat_szs"
      ],
      "metadata": {
        "colab": {
          "base_uri": "https://localhost:8080/"
        },
        "id": "u-Et9EehpeZW",
        "outputId": "015ee7c8-33c5-41ab-9fde-db9ad47cf4b5"
      },
      "execution_count": 48,
      "outputs": [
        {
          "output_type": "execute_result",
          "data": {
            "text/plain": [
              "[24, 2, 7]"
            ]
          },
          "metadata": {},
          "execution_count": 48
        }
      ]
    },
    {
      "cell_type": "code",
      "source": [
        "emb_szs = [(size, min(50, (size+1)//2)) for size in cat_szs]"
      ],
      "metadata": {
        "id": "_Ut7Lw34pfx-"
      },
      "execution_count": 49,
      "outputs": []
    },
    {
      "cell_type": "code",
      "source": [
        "emb_szs"
      ],
      "metadata": {
        "colab": {
          "base_uri": "https://localhost:8080/"
        },
        "id": "h7U2s4xFp3EW",
        "outputId": "cf9b82e1-05dc-4b13-8953-3d08aefa4d20"
      },
      "execution_count": 50,
      "outputs": [
        {
          "output_type": "execute_result",
          "data": {
            "text/plain": [
              "[(24, 12), (2, 1), (7, 4)]"
            ]
          },
          "metadata": {},
          "execution_count": 50
        }
      ]
    },
    {
      "cell_type": "code",
      "source": [
        "cat_2 = cats[:2]"
      ],
      "metadata": {
        "id": "I4vQJt2np3lz"
      },
      "execution_count": 51,
      "outputs": []
    },
    {
      "cell_type": "code",
      "source": [
        "cat_2"
      ],
      "metadata": {
        "colab": {
          "base_uri": "https://localhost:8080/"
        },
        "id": "A0n0PsoVqU6F",
        "outputId": "536de389-0f56-4f19-e265-e7851eff060d"
      },
      "execution_count": 52,
      "outputs": [
        {
          "output_type": "execute_result",
          "data": {
            "text/plain": [
              "tensor([[ 4,  0,  1],\n",
              "        [11,  0,  2]])"
            ]
          },
          "metadata": {},
          "execution_count": 52
        }
      ]
    },
    {
      "cell_type": "code",
      "source": [
        "embedding = nn.Embedding(10,3)\n",
        "embedding.weight"
      ],
      "metadata": {
        "colab": {
          "base_uri": "https://localhost:8080/"
        },
        "id": "_upipd_ABpEZ",
        "outputId": "9ba1968e-df68-404d-c703-57a4115aa555"
      },
      "execution_count": 53,
      "outputs": [
        {
          "output_type": "execute_result",
          "data": {
            "text/plain": [
              "Parameter containing:\n",
              "tensor([[-2.6542,  1.3924, -0.3799],\n",
              "        [-0.3993,  0.5103, -1.3008],\n",
              "        [ 0.5808, -0.7872, -0.1739],\n",
              "        [-1.0582, -1.2198,  0.5251],\n",
              "        [ 0.1906,  0.8094, -0.9816],\n",
              "        [ 0.4984,  1.6036, -0.6111],\n",
              "        [ 0.8891, -0.5045,  0.5877],\n",
              "        [ 0.6351, -0.9906, -0.5747],\n",
              "        [ 1.1543,  0.2788,  0.2805],\n",
              "        [ 0.8326, -0.1241,  0.7111]], requires_grad=True)"
            ]
          },
          "metadata": {},
          "execution_count": 53
        }
      ]
    },
    {
      "cell_type": "code",
      "source": [
        "selfembeds = nn.ModuleList([nn.Embedding(ni,nf) for ni,nf in emb_szs])"
      ],
      "metadata": {
        "id": "aPccgljZqVYW"
      },
      "execution_count": 54,
      "outputs": []
    },
    {
      "cell_type": "code",
      "source": [
        "selfembeds"
      ],
      "metadata": {
        "colab": {
          "base_uri": "https://localhost:8080/"
        },
        "id": "b8dVmtSiqsh5",
        "outputId": "0a031aba-3332-4ea3-a190-204ab8b473bc"
      },
      "execution_count": 55,
      "outputs": [
        {
          "output_type": "execute_result",
          "data": {
            "text/plain": [
              "ModuleList(\n",
              "  (0): Embedding(24, 12)\n",
              "  (1): Embedding(2, 1)\n",
              "  (2): Embedding(7, 4)\n",
              ")"
            ]
          },
          "metadata": {},
          "execution_count": 55
        }
      ]
    },
    {
      "cell_type": "code",
      "source": [
        "selfembeds[0].weight"
      ],
      "metadata": {
        "colab": {
          "base_uri": "https://localhost:8080/"
        },
        "id": "2UammBlGFBV2",
        "outputId": "e3612714-4715-46d6-bf1d-0283d58a1955"
      },
      "execution_count": 57,
      "outputs": [
        {
          "output_type": "execute_result",
          "data": {
            "text/plain": [
              "Parameter containing:\n",
              "tensor([[-1.2853e+00,  1.4265e+00,  8.5343e-01, -8.3335e-01,  5.6279e-01,\n",
              "          2.4873e-01,  1.4907e+00,  4.7928e-01,  1.1182e+00,  2.0344e+00,\n",
              "          4.5403e-01,  9.7512e-01],\n",
              "        [-2.3571e+00, -3.3004e-01, -2.4683e-01, -1.3172e-01,  1.0746e+00,\n",
              "         -7.2638e-01, -2.4752e-01,  5.7543e-01,  3.0788e-01, -4.8172e-01,\n",
              "         -2.1009e+00,  1.2159e+00],\n",
              "        [-1.6211e-02, -1.6616e+00,  1.1507e-01, -1.2088e+00,  3.4410e-01,\n",
              "          1.3245e+00, -2.2980e+00,  3.2554e-01,  1.2430e+00, -1.4812e+00,\n",
              "         -1.3166e+00,  1.1619e+00],\n",
              "        [-2.2172e-01,  7.8781e-01,  3.3501e-01,  3.0054e-01, -1.7011e+00,\n",
              "         -9.0528e-01, -2.0816e+00, -4.4241e-02,  2.6416e-01,  1.2280e+00,\n",
              "          7.9030e-01, -1.7617e-01],\n",
              "        [-1.3042e+00, -9.3309e-01, -1.1943e+00,  4.2845e-01,  5.9844e-01,\n",
              "          1.7023e+00, -1.9374e+00,  3.1832e-01,  1.3518e-01, -1.1972e+00,\n",
              "          1.7145e+00, -4.5281e-01],\n",
              "        [-5.1640e-01,  8.2270e-01, -2.8797e-01,  4.0943e-01,  7.3495e-01,\n",
              "         -1.3622e+00,  4.2839e-01, -2.2717e+00,  1.2918e+00, -1.6823e+00,\n",
              "         -8.7860e-01, -1.0315e+00],\n",
              "        [ 3.6426e-01, -1.4910e+00, -3.2826e-01,  7.2674e-01,  1.5714e+00,\n",
              "         -9.5998e-01,  4.7909e-01, -2.5317e-01, -1.3444e+00, -2.3777e+00,\n",
              "         -9.6363e-01,  8.5469e-01],\n",
              "        [ 2.7284e-01,  8.1113e-01,  6.6208e-01, -3.0870e-01,  6.2158e-01,\n",
              "         -2.5848e-01,  4.9832e-01, -1.1864e+00,  1.5613e-01, -6.9888e-01,\n",
              "          4.2612e-01,  1.4644e+00],\n",
              "        [-6.5645e-01, -1.0374e+00, -1.3393e+00,  6.3964e-01,  4.5326e-01,\n",
              "          2.0255e-01,  1.3053e+00, -8.0245e-01,  7.7713e-02, -4.6897e-02,\n",
              "         -1.8330e+00,  2.6066e-01],\n",
              "        [-1.3800e+00, -2.1711e+00, -7.1808e-01, -8.6234e-01, -3.6778e-01,\n",
              "          1.1130e+00, -3.5225e-01,  4.5749e-01,  1.0518e+00,  3.4073e-01,\n",
              "         -1.6796e+00, -1.8982e-01],\n",
              "        [ 1.3478e-01,  1.5955e+00,  4.0947e-01, -6.7204e-01,  6.2699e-01,\n",
              "         -1.0292e+00,  5.6555e-01,  5.0823e-04,  5.5972e-01, -4.2957e-01,\n",
              "          1.4223e-01,  1.1039e+00],\n",
              "        [-6.7431e-01, -5.0791e-01, -8.6472e-02,  3.5770e-01,  3.8818e-01,\n",
              "         -1.4180e-01, -1.9865e-02,  1.4057e+00,  1.0812e+00, -1.1746e+00,\n",
              "         -6.7293e-01,  1.1029e+00],\n",
              "        [-1.8083e+00, -1.3861e+00, -1.0103e+00, -3.3391e-01,  2.5568e+00,\n",
              "         -1.8607e-01,  3.7311e-01, -8.1616e-01, -1.3341e-01,  1.6952e-01,\n",
              "          2.7139e-01, -1.3459e+00],\n",
              "        [ 1.1162e+00,  1.1964e+00,  7.6236e-01,  1.7308e-01,  7.3676e-02,\n",
              "          1.9282e-01, -8.5330e-01, -3.9155e-01, -4.1745e-01, -6.4243e-01,\n",
              "          1.2738e+00,  9.9273e-01],\n",
              "        [ 4.5303e-01,  1.0557e+00,  1.1724e+00,  1.3540e+00,  2.8442e+00,\n",
              "          1.1903e+00, -9.3555e-01, -5.3911e-01, -1.3323e+00, -1.6199e+00,\n",
              "          4.7025e-02,  9.7313e-01],\n",
              "        [ 1.0310e-01, -4.4866e-01,  4.5028e-01, -1.4996e+00, -5.6547e-01,\n",
              "         -7.0631e-02,  1.3385e+00, -4.3906e-01,  7.3112e-01,  5.6744e-01,\n",
              "         -2.0012e+00,  7.8205e-01],\n",
              "        [ 1.0287e+00,  8.2707e-01,  2.2485e-01,  1.1332e+00, -1.1157e-02,\n",
              "          5.3055e-03, -9.6208e-02, -2.6792e+00, -1.1825e+00, -1.5147e+00,\n",
              "          2.5382e-01,  3.6081e-01],\n",
              "        [ 3.8011e-01,  1.9252e-01, -4.2820e-01, -9.7741e-01, -2.7835e-01,\n",
              "         -3.3943e-01, -9.1391e-01, -1.6246e+00, -1.2600e+00, -7.9679e-01,\n",
              "          8.8390e-01, -3.9093e-01],\n",
              "        [ 7.3085e-01,  3.6841e-01, -3.6755e-01, -8.6882e-01, -1.8657e+00,\n",
              "         -5.2052e-01, -1.9374e+00,  1.4147e+00, -1.1585e+00,  2.7714e-01,\n",
              "          3.4567e-01, -1.8399e+00],\n",
              "        [-4.8712e-01,  1.2315e+00, -1.0459e+00,  5.0069e-01, -1.6024e+00,\n",
              "          1.5863e-01,  6.2205e-01,  1.6513e+00, -2.0130e+00, -6.3090e-01,\n",
              "         -5.1079e-01,  4.5867e-01],\n",
              "        [-1.2369e+00, -3.9723e-01,  1.1753e+00, -1.2150e+00, -9.3788e-01,\n",
              "          3.1234e-01,  5.3314e-01, -1.7259e+00,  5.2027e-01, -3.0086e+00,\n",
              "          1.0387e-02,  4.8372e-01],\n",
              "        [ 1.2577e+00,  1.9102e-01, -6.2887e-01,  3.0615e-01, -1.9308e+00,\n",
              "         -1.2112e+00, -1.7699e+00, -1.0525e+00, -2.5810e-01, -7.9312e-02,\n",
              "          5.9224e-01, -1.0458e+00],\n",
              "        [-9.2229e-02,  1.7952e+00,  3.9700e-01, -4.1783e-02,  1.9255e-01,\n",
              "          4.1950e-01, -9.4838e-02,  1.0724e-01,  2.7760e-01, -2.2788e-01,\n",
              "          1.0738e+00,  1.6241e+00],\n",
              "        [ 6.8016e-01,  1.8660e-01, -1.2968e+00, -4.8676e-01,  3.1361e-01,\n",
              "          4.0761e-01, -8.5045e-01,  1.1004e+00, -8.7159e-01, -2.9011e+00,\n",
              "          1.9053e+00,  5.8532e-01]], requires_grad=True)"
            ]
          },
          "metadata": {},
          "execution_count": 57
        }
      ]
    },
    {
      "cell_type": "code",
      "source": [
        "selfembeds[0](torch.tensor([0]))"
      ],
      "metadata": {
        "colab": {
          "base_uri": "https://localhost:8080/"
        },
        "id": "_7SV4HLizLtK",
        "outputId": "43e1ae4a-55ae-4ba2-95bf-baa086fa362a"
      },
      "execution_count": 58,
      "outputs": [
        {
          "output_type": "execute_result",
          "data": {
            "text/plain": [
              "tensor([[-1.2853,  1.4265,  0.8534, -0.8333,  0.5628,  0.2487,  1.4907,  0.4793,\n",
              "          1.1182,  2.0344,  0.4540,  0.9751]], grad_fn=<EmbeddingBackward0>)"
            ]
          },
          "metadata": {},
          "execution_count": 58
        }
      ]
    },
    {
      "cell_type": "code",
      "source": [
        "selfembeds[0](torch.tensor([0,1]))"
      ],
      "metadata": {
        "colab": {
          "base_uri": "https://localhost:8080/"
        },
        "id": "57JhsQC8Fsf1",
        "outputId": "64d59e48-5b26-4bfc-c423-d5eb91b41943"
      },
      "execution_count": 59,
      "outputs": [
        {
          "output_type": "execute_result",
          "data": {
            "text/plain": [
              "tensor([[-1.2853,  1.4265,  0.8534, -0.8333,  0.5628,  0.2487,  1.4907,  0.4793,\n",
              "          1.1182,  2.0344,  0.4540,  0.9751],\n",
              "        [-2.3571, -0.3300, -0.2468, -0.1317,  1.0746, -0.7264, -0.2475,  0.5754,\n",
              "          0.3079, -0.4817, -2.1009,  1.2159]], grad_fn=<EmbeddingBackward0>)"
            ]
          },
          "metadata": {},
          "execution_count": 59
        }
      ]
    },
    {
      "cell_type": "code",
      "source": [
        "cat_2[:, 0] # first column of categorical data (hour)"
      ],
      "metadata": {
        "colab": {
          "base_uri": "https://localhost:8080/"
        },
        "id": "RQKCvhqqszDp",
        "outputId": "e59817a1-b6c4-4ac6-a87f-7e47d812b6f6"
      },
      "execution_count": 60,
      "outputs": [
        {
          "output_type": "execute_result",
          "data": {
            "text/plain": [
              "tensor([ 4, 11])"
            ]
          },
          "metadata": {},
          "execution_count": 60
        }
      ]
    },
    {
      "cell_type": "code",
      "source": [
        "cat_2[:, 1] # second col (am/pm)"
      ],
      "metadata": {
        "colab": {
          "base_uri": "https://localhost:8080/"
        },
        "id": "JicYVvCzInkE",
        "outputId": "8fa10cdc-3073-43b7-8596-101c3decc607"
      },
      "execution_count": 61,
      "outputs": [
        {
          "output_type": "execute_result",
          "data": {
            "text/plain": [
              "tensor([0, 0])"
            ]
          },
          "metadata": {},
          "execution_count": 61
        }
      ]
    },
    {
      "cell_type": "code",
      "source": [
        "cat_2[:, 2] # third col (weekday)"
      ],
      "metadata": {
        "colab": {
          "base_uri": "https://localhost:8080/"
        },
        "id": "_siL7HGAIn0m",
        "outputId": "97952423-670e-4c0b-9dd0-0647cd959b66"
      },
      "execution_count": 62,
      "outputs": [
        {
          "output_type": "execute_result",
          "data": {
            "text/plain": [
              "tensor([1, 2])"
            ]
          },
          "metadata": {},
          "execution_count": 62
        }
      ]
    },
    {
      "cell_type": "code",
      "source": [
        "for i,e in enumerate(selfembeds):\n",
        "  print(\"------------------------------------------\")\n",
        "  print(\"i: \" + str(i))\n",
        "  print(e)"
      ],
      "metadata": {
        "colab": {
          "base_uri": "https://localhost:8080/"
        },
        "id": "5yv9lRAcH6i5",
        "outputId": "12bfdba9-f3b6-4258-d579-18f59ea924b1"
      },
      "execution_count": 63,
      "outputs": [
        {
          "output_type": "stream",
          "name": "stdout",
          "text": [
            "------------------------------------------\n",
            "i: 0\n",
            "Embedding(24, 12)\n",
            "------------------------------------------\n",
            "i: 1\n",
            "Embedding(2, 1)\n",
            "------------------------------------------\n",
            "i: 2\n",
            "Embedding(7, 4)\n"
          ]
        }
      ]
    },
    {
      "cell_type": "code",
      "source": [
        "embedding_2 = []\n",
        "\n",
        "for i,e in enumerate(selfembeds):\n",
        "  embedding_2.append(e(cat_2[:, i]))"
      ],
      "metadata": {
        "id": "pYo8z41aqt7H"
      },
      "execution_count": 64,
      "outputs": []
    },
    {
      "cell_type": "code",
      "source": [
        "embedding_2"
      ],
      "metadata": {
        "colab": {
          "base_uri": "https://localhost:8080/"
        },
        "id": "3p_YhIz6rbKu",
        "outputId": "226e14d6-00ea-4fd2-c4bc-0c6c3ef2d41d"
      },
      "execution_count": 65,
      "outputs": [
        {
          "output_type": "execute_result",
          "data": {
            "text/plain": [
              "[tensor([[-1.3042, -0.9331, -1.1943,  0.4284,  0.5984,  1.7023, -1.9374,  0.3183,\n",
              "           0.1352, -1.1972,  1.7145, -0.4528],\n",
              "         [-0.6743, -0.5079, -0.0865,  0.3577,  0.3882, -0.1418, -0.0199,  1.4057,\n",
              "           1.0812, -1.1746, -0.6729,  1.1029]], grad_fn=<EmbeddingBackward0>),\n",
              " tensor([[-0.8575],\n",
              "         [-0.8575]], grad_fn=<EmbeddingBackward0>),\n",
              " tensor([[-1.5119, -1.2238,  1.3648, -1.6104],\n",
              "         [-0.3402, -0.4528,  1.2273, -0.3302]], grad_fn=<EmbeddingBackward0>)]"
            ]
          },
          "metadata": {},
          "execution_count": 65
        }
      ]
    },
    {
      "cell_type": "code",
      "source": [
        "z = torch.cat(embedding_2, 1)\n",
        "z"
      ],
      "metadata": {
        "colab": {
          "base_uri": "https://localhost:8080/"
        },
        "id": "b51Cijhdt3FK",
        "outputId": "2a58246e-fa30-45aa-96a6-d3453e27b30b"
      },
      "execution_count": 66,
      "outputs": [
        {
          "output_type": "execute_result",
          "data": {
            "text/plain": [
              "tensor([[-1.3042, -0.9331, -1.1943,  0.4284,  0.5984,  1.7023, -1.9374,  0.3183,\n",
              "          0.1352, -1.1972,  1.7145, -0.4528, -0.8575, -1.5119, -1.2238,  1.3648,\n",
              "         -1.6104],\n",
              "        [-0.6743, -0.5079, -0.0865,  0.3577,  0.3882, -0.1418, -0.0199,  1.4057,\n",
              "          1.0812, -1.1746, -0.6729,  1.1029, -0.8575, -0.3402, -0.4528,  1.2273,\n",
              "         -0.3302]], grad_fn=<CatBackward0>)"
            ]
          },
          "metadata": {},
          "execution_count": 66
        }
      ]
    },
    {
      "cell_type": "code",
      "source": [
        "selfembdrop = nn.Dropout(0.4)\n",
        "z = selfembdrop(z)"
      ],
      "metadata": {
        "id": "5D8D4qCzrb02"
      },
      "execution_count": 67,
      "outputs": []
    },
    {
      "cell_type": "code",
      "source": [
        "z"
      ],
      "metadata": {
        "colab": {
          "base_uri": "https://localhost:8080/"
        },
        "id": "WBeReXW4tSzf",
        "outputId": "a0163fae-19e8-4d9f-ac3f-f61911584419"
      },
      "execution_count": 68,
      "outputs": [
        {
          "output_type": "execute_result",
          "data": {
            "text/plain": [
              "tensor([[-0.0000, -1.5552, -0.0000,  0.7141,  0.0000,  0.0000, -0.0000,  0.5305,\n",
              "          0.2253, -0.0000,  0.0000, -0.0000, -1.4292, -0.0000, -2.0396,  0.0000,\n",
              "         -0.0000],\n",
              "        [-1.1238, -0.0000, -0.0000,  0.0000,  0.6470, -0.0000, -0.0000,  2.3428,\n",
              "          1.8021, -1.9577, -1.1215,  1.8382, -1.4292, -0.5670, -0.7546,  2.0456,\n",
              "         -0.0000]], grad_fn=<MulBackward0>)"
            ]
          },
          "metadata": {},
          "execution_count": 68
        }
      ]
    },
    {
      "cell_type": "code",
      "source": [
        "a = torch.rand(5,6)\n",
        "print(a)\n",
        "b = torch.rand(5,3)\n",
        "print(b)\n",
        "c = torch.cat((a,b), 1)\n",
        "c"
      ],
      "metadata": {
        "colab": {
          "base_uri": "https://localhost:8080/"
        },
        "id": "YH2esFmhMHtL",
        "outputId": "6eee0ab9-7a65-4b09-cf6e-6a3b3e8caab2"
      },
      "execution_count": 69,
      "outputs": [
        {
          "output_type": "stream",
          "name": "stdout",
          "text": [
            "tensor([[0.7715, 0.2594, 0.4630, 0.3262, 0.7882, 0.6030],\n",
            "        [0.7523, 0.6081, 0.0951, 0.3786, 0.7530, 0.0846],\n",
            "        [0.7632, 0.6607, 0.0798, 0.0921, 0.3668, 0.8944],\n",
            "        [0.4120, 0.9196, 0.8385, 0.5969, 0.7558, 0.9605],\n",
            "        [0.0570, 0.8989, 0.3556, 0.9599, 0.0279, 0.1148]])\n",
            "tensor([[0.2430, 0.1287, 0.9836],\n",
            "        [0.0391, 0.3702, 0.8596],\n",
            "        [0.0678, 0.6406, 0.7081],\n",
            "        [0.0724, 0.7250, 0.1313],\n",
            "        [0.8940, 0.3203, 0.3600]])\n"
          ]
        },
        {
          "output_type": "execute_result",
          "data": {
            "text/plain": [
              "tensor([[0.7715, 0.2594, 0.4630, 0.3262, 0.7882, 0.6030, 0.2430, 0.1287, 0.9836],\n",
              "        [0.7523, 0.6081, 0.0951, 0.3786, 0.7530, 0.0846, 0.0391, 0.3702, 0.8596],\n",
              "        [0.7632, 0.6607, 0.0798, 0.0921, 0.3668, 0.8944, 0.0678, 0.6406, 0.7081],\n",
              "        [0.4120, 0.9196, 0.8385, 0.5969, 0.7558, 0.9605, 0.0724, 0.7250, 0.1313],\n",
              "        [0.0570, 0.8989, 0.3556, 0.9599, 0.0279, 0.1148, 0.8940, 0.3203, 0.3600]])"
            ]
          },
          "metadata": {},
          "execution_count": 69
        }
      ]
    },
    {
      "cell_type": "code",
      "source": [
        "class TabularModel(nn.Module):\n",
        "  def __init__(self, emb_szs, n_cont, out_sz, layers, p=0.5):\n",
        "\n",
        "    # layers = [200, 100, 50]\n",
        "\n",
        "    super().__init__()\n",
        "    self.embeds = nn.ModuleList([nn.Embedding(ni,nf) for ni,nf in emb_szs])\n",
        "    self.emb_drop = nn.Dropout(p)\n",
        "    self.bn_cont = nn.BatchNorm1d(n_cont)\n",
        "\n",
        "    layerlist = []\n",
        "    n_emb = sum([nf for ni,nf in emb_szs])\n",
        "    n_in = n_emb + n_cont\n",
        "\n",
        "    for i in layers:\n",
        "      layerlist.append(nn.Linear(n_in, i))\n",
        "      layerlist.append(nn.ReLU(inplace=True))\n",
        "      layerlist.append(nn.BatchNorm1d(i))\n",
        "      layerlist.append(nn.Dropout(p))\n",
        "      n_in = i\n",
        "\n",
        "    layerlist.append(nn.Linear(layers[-1],out_sz))\n",
        "\n",
        "    self.layers = nn.Sequential(*layerlist)\n",
        "\n",
        "  def forward(self, x_cat, x_cont):\n",
        "    embeddings = []\n",
        "    for i,e in enumerate(self.embeds):\n",
        "      embeddings.append(e(x_cat[:,i]))\n",
        "    x = torch.cat(embeddings, 1)\n",
        "    x = self.emb_drop(x)\n",
        "    x_cont = self.bn_cont(x_cont)\n",
        "    x = torch.cat([x, x_cont], 1)\n",
        "    x = self.layers(x)\n",
        "    return x"
      ],
      "metadata": {
        "id": "QWBsXD7btgFo"
      },
      "execution_count": 2,
      "outputs": []
    },
    {
      "cell_type": "code",
      "source": [
        "torch.manual_seed(33)\n",
        "model = TabularModel(emb_szs, conts.shape[1], 1, [200, 100], p=0.4)"
      ],
      "metadata": {
        "id": "MrzRFvW_WbeF",
        "colab": {
          "base_uri": "https://localhost:8080/",
          "height": 183
        },
        "outputId": "3d079dc0-f97b-43ef-c0a2-2728663f60bd"
      },
      "execution_count": 3,
      "outputs": [
        {
          "output_type": "error",
          "ename": "NameError",
          "evalue": "ignored",
          "traceback": [
            "\u001b[0;31m---------------------------------------------------------------------------\u001b[0m",
            "\u001b[0;31mNameError\u001b[0m                                 Traceback (most recent call last)",
            "\u001b[0;32m<ipython-input-3-10bdec3972ce>\u001b[0m in \u001b[0;36m<module>\u001b[0;34m()\u001b[0m\n\u001b[1;32m      1\u001b[0m \u001b[0mtorch\u001b[0m\u001b[0;34m.\u001b[0m\u001b[0mmanual_seed\u001b[0m\u001b[0;34m(\u001b[0m\u001b[0;36m33\u001b[0m\u001b[0;34m)\u001b[0m\u001b[0;34m\u001b[0m\u001b[0;34m\u001b[0m\u001b[0m\n\u001b[0;32m----> 2\u001b[0;31m \u001b[0mmodel\u001b[0m \u001b[0;34m=\u001b[0m \u001b[0mTabularModel\u001b[0m\u001b[0;34m(\u001b[0m\u001b[0memb_szs\u001b[0m\u001b[0;34m,\u001b[0m \u001b[0mconts\u001b[0m\u001b[0;34m.\u001b[0m\u001b[0mshape\u001b[0m\u001b[0;34m[\u001b[0m\u001b[0;36m1\u001b[0m\u001b[0;34m]\u001b[0m\u001b[0;34m,\u001b[0m \u001b[0;36m1\u001b[0m\u001b[0;34m,\u001b[0m \u001b[0;34m[\u001b[0m\u001b[0;36m200\u001b[0m\u001b[0;34m,\u001b[0m \u001b[0;36m100\u001b[0m\u001b[0;34m]\u001b[0m\u001b[0;34m,\u001b[0m \u001b[0mp\u001b[0m\u001b[0;34m=\u001b[0m\u001b[0;36m0.4\u001b[0m\u001b[0;34m)\u001b[0m\u001b[0;34m\u001b[0m\u001b[0;34m\u001b[0m\u001b[0m\n\u001b[0m",
            "\u001b[0;31mNameError\u001b[0m: name 'emb_szs' is not defined"
          ]
        }
      ]
    },
    {
      "cell_type": "code",
      "source": [
        "model"
      ],
      "metadata": {
        "colab": {
          "base_uri": "https://localhost:8080/"
        },
        "id": "MM0ITAFyXKfK",
        "outputId": "7466af11-8661-4408-8cce-7c608f4d2b56"
      },
      "execution_count": 68,
      "outputs": [
        {
          "output_type": "execute_result",
          "data": {
            "text/plain": [
              "TabularModel(\n",
              "  (embeds): ModuleList(\n",
              "    (0): Embedding(24, 12)\n",
              "    (1): Embedding(2, 1)\n",
              "    (2): Embedding(7, 4)\n",
              "  )\n",
              "  (emb_drop): Dropout(p=0.4, inplace=False)\n",
              "  (bn_cont): BatchNorm1d(6, eps=1e-05, momentum=0.1, affine=True, track_running_stats=True)\n",
              "  (layers): Sequential(\n",
              "    (0): Linear(in_features=23, out_features=200, bias=True)\n",
              "    (1): ReLU(inplace=True)\n",
              "    (2): BatchNorm1d(200, eps=1e-05, momentum=0.1, affine=True, track_running_stats=True)\n",
              "    (3): Dropout(p=0.4, inplace=False)\n",
              "    (4): Linear(in_features=200, out_features=100, bias=True)\n",
              "    (5): ReLU(inplace=True)\n",
              "    (6): BatchNorm1d(100, eps=1e-05, momentum=0.1, affine=True, track_running_stats=True)\n",
              "    (7): Dropout(p=0.4, inplace=False)\n",
              "    (8): Linear(in_features=100, out_features=1, bias=True)\n",
              "  )\n",
              ")"
            ]
          },
          "metadata": {},
          "execution_count": 68
        }
      ]
    },
    {
      "cell_type": "code",
      "source": [
        "criterion = nn.MSELoss() # np.sqrt(MSE) --> RMSE\n",
        "optimizer = torch.optim.Adam(model.parameters(), lr=0.001)"
      ],
      "metadata": {
        "id": "d0Ucd7y8XK1Q"
      },
      "execution_count": 75,
      "outputs": []
    },
    {
      "cell_type": "code",
      "source": [
        "batch_size = 60000\n",
        "test_size = int(batch_size * 0.2)"
      ],
      "metadata": {
        "id": "DVLmLA746qut"
      },
      "execution_count": 71,
      "outputs": []
    },
    {
      "cell_type": "code",
      "source": [
        "#DATA SHUFFLED ALREADY\n",
        "cat_train = cats[:batch_size - test_size]\n",
        "cat_test = cats[batch_size - test_size:batch_size]\n",
        "con_train = conts[:batch_size - test_size]\n",
        "con_test = conts[batch_size - test_size:batch_size]"
      ],
      "metadata": {
        "id": "KoiuFRLS7lOZ"
      },
      "execution_count": 72,
      "outputs": []
    },
    {
      "cell_type": "code",
      "source": [
        "y_train = y[:batch_size - test_size]\n",
        "y_test = y[batch_size - test_size:batch_size]"
      ],
      "metadata": {
        "id": "1zHde6TX8GCP"
      },
      "execution_count": 73,
      "outputs": []
    },
    {
      "cell_type": "code",
      "source": [
        "len(cat_train)"
      ],
      "metadata": {
        "colab": {
          "base_uri": "https://localhost:8080/"
        },
        "id": "bnxNPkxk8Sqc",
        "outputId": "a42f9465-5f3a-4a81-efab-f290b2f0e5c3"
      },
      "execution_count": 73,
      "outputs": [
        {
          "output_type": "execute_result",
          "data": {
            "text/plain": [
              "48000"
            ]
          },
          "metadata": {},
          "execution_count": 73
        }
      ]
    },
    {
      "cell_type": "code",
      "source": [
        "len(cat_test)"
      ],
      "metadata": {
        "colab": {
          "base_uri": "https://localhost:8080/"
        },
        "id": "VugkS0HZ8Zv3",
        "outputId": "54d73249-d3d9-4b94-f208-d2b5e76c22cc"
      },
      "execution_count": 78,
      "outputs": [
        {
          "output_type": "execute_result",
          "data": {
            "text/plain": [
              "12000"
            ]
          },
          "metadata": {},
          "execution_count": 78
        }
      ]
    },
    {
      "cell_type": "code",
      "source": [
        "# TRAINING \n",
        "import time \n",
        "start_time = time.time()\n",
        "epochs = 1000\n",
        "\n",
        "losses = []\n",
        "\n",
        "for i in range(epochs):\n",
        "  i += 1\n",
        "  y_pred = model(cat_train, con_train)\n",
        "  loss = torch.sqrt(criterion(y_pred, y_train)) #RMSE\n",
        "  losses.append(loss)\n",
        "\n",
        "  if i%10 == 1:\n",
        "    print(f'epoch: {i} loss is {loss}')\n",
        "\n",
        "  optimizer.zero_grad()\n",
        "  loss.backward()\n",
        "  optimizer.step()\n",
        "\n",
        "duration = time.time() - start_time\n",
        "print(f'Training took {duration/60} minutes')"
      ],
      "metadata": {
        "colab": {
          "base_uri": "https://localhost:8080/"
        },
        "id": "mmylPBue8dBe",
        "outputId": "6b8928a2-a70c-48f5-cb7b-3421b802698f"
      },
      "execution_count": 93,
      "outputs": [
        {
          "output_type": "stream",
          "name": "stdout",
          "text": [
            "epoch: 1 loss is 3.3738696575164795\n",
            "epoch: 11 loss is 3.3812549114227295\n",
            "epoch: 21 loss is 3.364935874938965\n",
            "epoch: 31 loss is 3.3663880825042725\n",
            "epoch: 41 loss is 3.3550429344177246\n",
            "epoch: 51 loss is 3.3261160850524902\n",
            "epoch: 61 loss is 3.3257663249969482\n",
            "epoch: 71 loss is 3.3184564113616943\n",
            "epoch: 81 loss is 3.3081202507019043\n",
            "epoch: 91 loss is 3.2952725887298584\n",
            "epoch: 101 loss is 3.307847738265991\n",
            "epoch: 111 loss is 3.2982702255249023\n",
            "epoch: 121 loss is 3.2941882610321045\n",
            "epoch: 131 loss is 3.2969253063201904\n",
            "epoch: 141 loss is 3.260481119155884\n",
            "epoch: 151 loss is 3.2870922088623047\n",
            "epoch: 161 loss is 3.28943133354187\n",
            "epoch: 171 loss is 3.2845206260681152\n",
            "epoch: 181 loss is 3.2571048736572266\n",
            "epoch: 191 loss is 3.252938985824585\n",
            "epoch: 201 loss is 3.277048349380493\n",
            "epoch: 211 loss is 3.2396726608276367\n",
            "epoch: 221 loss is 3.2641348838806152\n",
            "epoch: 231 loss is 3.240811586380005\n",
            "epoch: 241 loss is 3.2458930015563965\n",
            "epoch: 251 loss is 3.240922689437866\n",
            "epoch: 261 loss is 3.2385902404785156\n",
            "epoch: 271 loss is 3.2250118255615234\n",
            "epoch: 281 loss is 3.240485668182373\n",
            "epoch: 291 loss is 3.2058608531951904\n",
            "epoch: 301 loss is 3.223240852355957\n",
            "epoch: 311 loss is 3.2272372245788574\n",
            "epoch: 321 loss is 3.2116129398345947\n",
            "epoch: 331 loss is 3.2200138568878174\n",
            "epoch: 341 loss is 3.2081918716430664\n",
            "epoch: 351 loss is 3.2284553050994873\n",
            "epoch: 361 loss is 3.2063732147216797\n",
            "epoch: 371 loss is 3.179386854171753\n",
            "epoch: 381 loss is 3.199685573577881\n",
            "epoch: 391 loss is 3.206775426864624\n",
            "epoch: 401 loss is 3.2160871028900146\n",
            "epoch: 411 loss is 3.2083890438079834\n",
            "epoch: 421 loss is 3.2044501304626465\n",
            "epoch: 431 loss is 3.1736669540405273\n",
            "epoch: 441 loss is 3.2129406929016113\n",
            "epoch: 451 loss is 3.1922523975372314\n",
            "epoch: 461 loss is 3.18876314163208\n",
            "epoch: 471 loss is 3.1817688941955566\n",
            "epoch: 481 loss is 3.1777896881103516\n",
            "epoch: 491 loss is 3.178011178970337\n",
            "epoch: 501 loss is 3.1787846088409424\n",
            "epoch: 511 loss is 3.178112030029297\n",
            "epoch: 521 loss is 3.1794958114624023\n",
            "epoch: 531 loss is 3.175166606903076\n",
            "epoch: 541 loss is 3.1732418537139893\n",
            "epoch: 551 loss is 3.188257932662964\n",
            "epoch: 561 loss is 3.1702523231506348\n",
            "epoch: 571 loss is 3.1734859943389893\n",
            "epoch: 581 loss is 3.15999174118042\n",
            "epoch: 591 loss is 3.160261869430542\n",
            "epoch: 601 loss is 3.1713860034942627\n",
            "epoch: 611 loss is 3.1589903831481934\n",
            "epoch: 621 loss is 3.172565221786499\n",
            "epoch: 631 loss is 3.169473171234131\n",
            "epoch: 641 loss is 3.1620311737060547\n",
            "epoch: 651 loss is 3.152517557144165\n",
            "epoch: 661 loss is 3.1545193195343018\n",
            "epoch: 671 loss is 3.1574065685272217\n",
            "epoch: 681 loss is 3.134962558746338\n",
            "epoch: 691 loss is 3.1519010066986084\n",
            "epoch: 701 loss is 3.151881217956543\n",
            "epoch: 711 loss is 3.1385669708251953\n",
            "epoch: 721 loss is 3.121083974838257\n",
            "epoch: 731 loss is 3.1589713096618652\n",
            "epoch: 741 loss is 3.1344921588897705\n",
            "epoch: 751 loss is 3.1467275619506836\n",
            "epoch: 761 loss is 3.1249024868011475\n",
            "epoch: 771 loss is 3.140048027038574\n",
            "epoch: 781 loss is 3.136916160583496\n",
            "epoch: 791 loss is 3.1387276649475098\n",
            "epoch: 801 loss is 3.1434948444366455\n",
            "epoch: 811 loss is 3.1296908855438232\n",
            "epoch: 821 loss is 3.132491111755371\n",
            "epoch: 831 loss is 3.1360363960266113\n",
            "epoch: 841 loss is 3.1360294818878174\n",
            "epoch: 851 loss is 3.1248373985290527\n",
            "epoch: 861 loss is 3.1423113346099854\n",
            "epoch: 871 loss is 3.134063243865967\n",
            "epoch: 881 loss is 3.1302103996276855\n",
            "epoch: 891 loss is 3.129816770553589\n",
            "epoch: 901 loss is 3.1329641342163086\n",
            "epoch: 911 loss is 3.111274242401123\n",
            "epoch: 921 loss is 3.1189165115356445\n",
            "epoch: 931 loss is 3.1160311698913574\n",
            "epoch: 941 loss is 3.117022752761841\n",
            "epoch: 951 loss is 3.1428515911102295\n",
            "epoch: 961 loss is 3.110861301422119\n",
            "epoch: 971 loss is 3.1379644870758057\n",
            "epoch: 981 loss is 3.107949733734131\n",
            "epoch: 991 loss is 3.120429515838623\n",
            "Training took 4.822443409760793 minutes\n"
          ]
        }
      ]
    },
    {
      "cell_type": "code",
      "source": [
        "with torch.no_grad():\n",
        "  plt.plot(range(epochs), losses)"
      ],
      "metadata": {
        "colab": {
          "base_uri": "https://localhost:8080/",
          "height": 265
        },
        "id": "XAjbYMoz9v4D",
        "outputId": "01228f80-6243-4b9d-bd60-3d496763ebfe"
      },
      "execution_count": 94,
      "outputs": [
        {
          "output_type": "display_data",
          "data": {
            "text/plain": [
              "<Figure size 432x288 with 1 Axes>"
            ],
            "image/png": "[encoded data removed]"
          },
          "metadata": {
            "needs_background": "light"
          }
        }
      ]
    },
    {
      "cell_type": "code",
      "source": [
        "with torch.no_grad():\n",
        "  y_val = model(cat_test, con_test)\n",
        "  loss = torch.sqrt(criterion(y_val, y_test))"
      ],
      "metadata": {
        "id": "LTh4wZLJ-Jpp"
      },
      "execution_count": 95,
      "outputs": []
    },
    {
      "cell_type": "code",
      "source": [
        "loss"
      ],
      "metadata": {
        "colab": {
          "base_uri": "https://localhost:8080/"
        },
        "id": "LWkrGDAn-sVi",
        "outputId": "02806df4-80f3-4563-82c9-68b035a34976"
      },
      "execution_count": 96,
      "outputs": [
        {
          "output_type": "execute_result",
          "data": {
            "text/plain": [
              "tensor(3.2774)"
            ]
          },
          "metadata": {},
          "execution_count": 96
        }
      ]
    },
    {
      "cell_type": "code",
      "source": [
        "for i in range(10):\n",
        "  diff = np.abs(y_val[i].item() - y_test[i].item())\n",
        "  print(f'{i}). PREDICTED: {y_val[i].item(): 8.4f}, TRUE: {y_test[i].item(): 8.4f}, DIFF: {diff: 8.4f}')"
      ],
      "metadata": {
        "colab": {
          "base_uri": "https://localhost:8080/"
        },
        "id": "eWqOrDe_-yk1",
        "outputId": "527cf1dc-896c-4633-80aa-401a30296135"
      },
      "execution_count": 97,
      "outputs": [
        {
          "output_type": "stream",
          "name": "stdout",
          "text": [
            "0). PREDICTED:   4.2274, TRUE:   2.9000, DIFF:   1.3274\n",
            "1). PREDICTED:  19.3420, TRUE:   5.7000, DIFF:  13.6420\n",
            "2). PREDICTED:   5.8798, TRUE:   7.7000, DIFF:   1.8202\n",
            "3). PREDICTED:   8.4065, TRUE:  12.5000, DIFF:   4.0935\n",
            "4). PREDICTED:   3.9858, TRUE:   4.1000, DIFF:   0.1142\n",
            "5). PREDICTED:   5.5375, TRUE:   5.3000, DIFF:   0.2375\n",
            "6). PREDICTED:   3.3839, TRUE:   3.7000, DIFF:   0.3161\n",
            "7). PREDICTED:  13.1833, TRUE:  14.5000, DIFF:   1.3167\n",
            "8). PREDICTED:   5.4073, TRUE:   5.7000, DIFF:   0.2927\n",
            "9). PREDICTED:  10.7984, TRUE:  10.1000, DIFF:   0.6984\n"
          ]
        }
      ]
    },
    {
      "cell_type": "code",
      "source": [
        "from google.colab import drive\n",
        "drive.mount('/content/gdrive')"
      ],
      "metadata": {
        "colab": {
          "base_uri": "https://localhost:8080/"
        },
        "id": "3S6GsW_sDp2x",
        "outputId": "a43c647f-9dbe-4aa2-c814-7886aff0f76f"
      },
      "execution_count": 100,
      "outputs": [
        {
          "output_type": "stream",
          "name": "stdout",
          "text": [
            "Mounted at /content/gdrive\n"
          ]
        }
      ]
    },
    {
      "cell_type": "code",
      "source": [
        "torch.save(model.state_dict(), '/content/gdrive/MyDrive/TaxiModel.pt')"
      ],
      "metadata": {
        "id": "fdR3IJtc_IQd"
      },
      "execution_count": 101,
      "outputs": []
    },
    {
      "cell_type": "code",
      "source": [
        "#LOADING MODEL\n",
        "model2 = TabularModel([(24, 12), (2, 1), (7, 4)], 6, 1, [200, 100], p=0.4)\n",
        "model2.load_state_dict(torch.load('/content/gdrive/MyDrive/TaxiModel.pt'));\n",
        "model2.eval()"
      ],
      "metadata": {
        "colab": {
          "base_uri": "https://localhost:8080/"
        },
        "id": "QrCgGq_nEuML",
        "outputId": "c9cda5b3-b8a7-42dc-bfb1-e9cd7da91fb0"
      },
      "execution_count": 6,
      "outputs": [
        {
          "output_type": "execute_result",
          "data": {
            "text/plain": [
              "TabularModel(\n",
              "  (embeds): ModuleList(\n",
              "    (0): Embedding(24, 12)\n",
              "    (1): Embedding(2, 1)\n",
              "    (2): Embedding(7, 4)\n",
              "  )\n",
              "  (emb_drop): Dropout(p=0.4, inplace=False)\n",
              "  (bn_cont): BatchNorm1d(6, eps=1e-05, momentum=0.1, affine=True, track_running_stats=True)\n",
              "  (layers): Sequential(\n",
              "    (0): Linear(in_features=23, out_features=200, bias=True)\n",
              "    (1): ReLU(inplace=True)\n",
              "    (2): BatchNorm1d(200, eps=1e-05, momentum=0.1, affine=True, track_running_stats=True)\n",
              "    (3): Dropout(p=0.4, inplace=False)\n",
              "    (4): Linear(in_features=200, out_features=100, bias=True)\n",
              "    (5): ReLU(inplace=True)\n",
              "    (6): BatchNorm1d(100, eps=1e-05, momentum=0.1, affine=True, track_running_stats=True)\n",
              "    (7): Dropout(p=0.4, inplace=False)\n",
              "    (8): Linear(in_features=100, out_features=1, bias=True)\n",
              "  )\n",
              ")"
            ]
          },
          "metadata": {},
          "execution_count": 6
        }
      ]
    },
    {
      "cell_type": "code",
      "source": [
        "# with torch.no_grad():\n",
        "#   y_val = model2(cat_test, con_test)\n",
        "#   loss = torch.sqrt(criterion(y_val, y_test))\n",
        "# loss"
      ],
      "metadata": {
        "colab": {
          "base_uri": "https://localhost:8080/"
        },
        "id": "kI6giBnIEyrr",
        "outputId": "d0f9c5f5-7706-4e17-8fb5-efe350049ca8"
      },
      "execution_count": 77,
      "outputs": [
        {
          "output_type": "execute_result",
          "data": {
            "text/plain": [
              "tensor(2.8375)"
            ]
          },
          "metadata": {},
          "execution_count": 77
        }
      ]
    },
    {
      "cell_type": "code",
      "source": [
        "# SINGLE DATA PREDICTION \n",
        "def test_data(mdl): \n",
        "  plat = float(input('What is the pickup latitude? '))\n",
        "  plong = float(input('What is the pickup longitude? '))\n",
        "  dlat = float(input('What is the dropoff latitude? '))\n",
        "  dlong = float(input('What is the dropoff longitude? '))\n",
        "\n",
        "  psngr = int(input('How many passengers? '))\n",
        "  dt = input('What is the pickup date and time? (YYYY-MM-DD HH:MM:SS)')\n",
        "\n",
        "  dfx_dict = {'pickup_latitude':plat,'pickup_longitude':plong,'dropoff_latitude':dlat,\n",
        "         'dropoff_longitude':dlong,'passenger_count':psngr,'EDTdate':dt}\n",
        "  dfx = pd.DataFrame(dfx_dict, index=[0])\n",
        "  dfx['dist_km'] = haversine_distance(dfx,'pickup_latitude', 'pickup_longitude',\n",
        "                                        'dropoff_latitude', 'dropoff_longitude')\n",
        "  dfx['EDTdate'] = pd.to_datetime(dfx['EDTdate'])\n",
        "\n",
        "  dfx['Hour'] = dfx['EDTdate'].dt.hour\n",
        "  dfx['AMorPM'] = np.where(dfx['Hour']<12,0,1) \n",
        "  dfx['Weekday'] = dfx['EDTdate'].dt.strftime(\"%a\")\n",
        "  dfx['Weekday'] = dfx['Weekday'].replace(['Fri','Mon','Sat','Sun','Thu','Tue','Wed'],\n",
        "                                          [0,1,2,3,4,5,6]).astype('int64')\n",
        "\n",
        "  cat_cols = ['Hour', 'AMorPM', 'Weekday']\n",
        "  cont_cols = ['pickup_latitude', 'pickup_longitude', 'dropoff_latitude',\n",
        "                'dropoff_longitude', 'passenger_count', 'dist_km']\n",
        "  xcats = np.stack([dfx[col].values for col in cat_cols], 1)\n",
        "  xcats = torch.tensor(xcats, dtype=torch.int64)\n",
        "  xconts = np.stack([dfx[col].values for col in cont_cols], 1)\n",
        "  xconts = torch.tensor(xconts, dtype=torch.float)\n",
        "  \n",
        "  # PASS NEW DATA THROUGH THE MODEL WITHOUT PERFORMING A BACKPROP\n",
        "  with torch.no_grad():\n",
        "      z = mdl(xcats, xconts)\n",
        "  print(f'\\nThe predicted fare amount is ${z.item():.2f}')"
      ],
      "metadata": {
        "id": "jdHaDIdXJibj"
      },
      "execution_count": 84,
      "outputs": []
    },
    {
      "cell_type": "code",
      "source": [
        "z = test_data(model2)"
      ],
      "metadata": {
        "colab": {
          "base_uri": "https://localhost:8080/"
        },
        "id": "bxFXDgJ3J9Rz",
        "outputId": "2c867984-9ade-4c31-f60d-a93ca86e908e"
      },
      "execution_count": 85,
      "outputs": [
        {
          "output_type": "stream",
          "name": "stdout",
          "text": [
            "What is the pickup latitude? 40.5\n",
            "What is the pickup longitude? -73.9\n",
            "What is the dropoff latitude? 40.52\n",
            "What is the dropoff longitude? -73.92\n",
            "How many passengers? 2\n",
            "What is the pickup date and time? (YYYY-MM-DD HH:MM:SS)2010-04-15 16:00:00\n",
            "\n",
            "The predicted fare amount is $38.59\n"
          ]
        }
      ]
    },
    {
      "cell_type": "code",
      "source": [
        ""
      ],
      "metadata": {
        "id": "8UIkz5L2KCvO"
      },
      "execution_count": null,
      "outputs": []
    }
  ]
}